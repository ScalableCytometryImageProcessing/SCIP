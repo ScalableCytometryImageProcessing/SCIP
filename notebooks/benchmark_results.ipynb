{
 "cells": [
  {
   "cell_type": "code",
   "execution_count": 2,
   "id": "27bc2694-f5a3-46e0-8ac3-5fa7ebfde880",
   "metadata": {},
   "outputs": [],
   "source": [
    "import pandas\n",
    "import seaborn\n",
    "import numpy"
   ]
  },
  {
   "cell_type": "markdown",
   "id": "fa1e01ca-c324-4ea3-89eb-4eea632e4e09",
   "metadata": {},
   "source": [
    "# Scalability benchmark results\n",
    "\n",
    "The SCIP tool ([commit](https://github.com/ScalableImagingPipeline/dask-pipeline/commit/db5adcd96ad4128e2dbba793676a0bc45ab00b18)) was ran on the Prism cluster on a Vulcan PBMC dataset of 1000 4-channel images. The amount of Dask worker processes was varied from 2 to 16, doubling the number of processes each time. Each measurement was repeated 3 times. Only one cluster node was used, which has 250GB of memory and 24 cores."
   ]
  },
  {
   "cell_type": "code",
   "execution_count": 3,
   "id": "6740a1d0-c454-4520-bf20-e9e377e23af7",
   "metadata": {},
   "outputs": [],
   "source": [
    "df = pandas.read_csv(\"../benchmark_results/0bd21bb93eb5661fca943748eca46723aae5f81a.csv\")"
   ]
  },
  {
   "cell_type": "code",
   "execution_count": 4,
   "id": "82f25bd2-8a72-45b6-b0d8-05962e6eb31f",
   "metadata": {},
   "outputs": [],
   "source": [
    "df = pandas.read_csv(\"../benchmark_results/db5adcd96ad4128e2dbba793676a0bc45ab00b18.csv\")"
   ]
  },
  {
   "cell_type": "code",
   "execution_count": 5,
   "id": "71013143-5995-4f10-bce4-d4e0a88edda3",
   "metadata": {},
   "outputs": [],
   "source": [
    "df = pandas.read_csv(\"../benchmark_results/b41cfad2a105d8e3655704e6cdbb418784465eda.csv\")"
   ]
  },
  {
   "cell_type": "code",
   "execution_count": 6,
   "id": "a8337309-51f3-4644-89a4-bd547b828b6c",
   "metadata": {},
   "outputs": [
    {
     "data": {
      "text/plain": [
       "(6, 18)"
      ]
     },
     "execution_count": 6,
     "metadata": {},
     "output_type": "execute_result"
    }
   ],
   "source": [
    "df.shape"
   ]
  },
  {
   "cell_type": "code",
   "execution_count": 7,
   "id": "df494b50-8df7-4da5-afe6-ed4330f14e7d",
   "metadata": {},
   "outputs": [
    {
     "data": {
      "text/html": [
       "<div>\n",
       "<style scoped>\n",
       "    .dataframe tbody tr th:only-of-type {\n",
       "        vertical-align: middle;\n",
       "    }\n",
       "\n",
       "    .dataframe tbody tr th {\n",
       "        vertical-align: top;\n",
       "    }\n",
       "\n",
       "    .dataframe thead th {\n",
       "        text-align: right;\n",
       "    }\n",
       "</style>\n",
       "<table border=\"1\" class=\"dataframe\">\n",
       "  <thead>\n",
       "    <tr style=\"text-align: right;\">\n",
       "      <th></th>\n",
       "      <th>n_workers</th>\n",
       "      <th>n_threads</th>\n",
       "      <th>local</th>\n",
       "      <th>n_cores</th>\n",
       "      <th>memory</th>\n",
       "      <th>walltime</th>\n",
       "      <th>job_extra</th>\n",
       "      <th>headless</th>\n",
       "      <th>timing</th>\n",
       "      <th>partition_size</th>\n",
       "      <th>local_directory</th>\n",
       "      <th>output</th>\n",
       "      <th>config</th>\n",
       "      <th>paths</th>\n",
       "      <th>port</th>\n",
       "      <th>debug</th>\n",
       "      <th>n_nodes</th>\n",
       "      <th>runtime</th>\n",
       "    </tr>\n",
       "  </thead>\n",
       "  <tbody>\n",
       "    <tr>\n",
       "      <th>0</th>\n",
       "      <td>8</td>\n",
       "      <td>2</td>\n",
       "      <td>False</td>\n",
       "      <td>28</td>\n",
       "      <td>64</td>\n",
       "      <td>00:45:00</td>\n",
       "      <td>['-A lt1_starter-245']</td>\n",
       "      <td>True</td>\n",
       "      <td>/vsc-mounts/gent-user/420/vsc42015/projects/da...</td>\n",
       "      <td>10</td>\n",
       "      <td>/local_scratch/</td>\n",
       "      <td>/vsc-mounts/gent-user/420/vsc42015/projects/da...</td>\n",
       "      <td>scip.yml</td>\n",
       "      <td>['/data/gent/vo/000/gvo00070/vsc42015/datasets...</td>\n",
       "      <td>NaN</td>\n",
       "      <td>False</td>\n",
       "      <td>1</td>\n",
       "      <td>1502.437177</td>\n",
       "    </tr>\n",
       "    <tr>\n",
       "      <th>1</th>\n",
       "      <td>16</td>\n",
       "      <td>1</td>\n",
       "      <td>False</td>\n",
       "      <td>28</td>\n",
       "      <td>64</td>\n",
       "      <td>00:45:00</td>\n",
       "      <td>['-A lt1_starter-245']</td>\n",
       "      <td>True</td>\n",
       "      <td>/vsc-mounts/gent-user/420/vsc42015/projects/da...</td>\n",
       "      <td>10</td>\n",
       "      <td>/local_scratch/</td>\n",
       "      <td>/vsc-mounts/gent-user/420/vsc42015/projects/da...</td>\n",
       "      <td>scip.yml</td>\n",
       "      <td>['/data/gent/vo/000/gvo00070/vsc42015/datasets...</td>\n",
       "      <td>NaN</td>\n",
       "      <td>False</td>\n",
       "      <td>1</td>\n",
       "      <td>676.593552</td>\n",
       "    </tr>\n",
       "    <tr>\n",
       "      <th>2</th>\n",
       "      <td>8</td>\n",
       "      <td>2</td>\n",
       "      <td>False</td>\n",
       "      <td>28</td>\n",
       "      <td>64</td>\n",
       "      <td>00:45:00</td>\n",
       "      <td>['-A lt1_starter-245']</td>\n",
       "      <td>True</td>\n",
       "      <td>/vsc-mounts/gent-user/420/vsc42015/projects/da...</td>\n",
       "      <td>10</td>\n",
       "      <td>/local_scratch/</td>\n",
       "      <td>/vsc-mounts/gent-user/420/vsc42015/projects/da...</td>\n",
       "      <td>scip.yml</td>\n",
       "      <td>['/data/gent/vo/000/gvo00070/vsc42015/datasets...</td>\n",
       "      <td>NaN</td>\n",
       "      <td>False</td>\n",
       "      <td>1</td>\n",
       "      <td>1447.967548</td>\n",
       "    </tr>\n",
       "    <tr>\n",
       "      <th>3</th>\n",
       "      <td>8</td>\n",
       "      <td>2</td>\n",
       "      <td>False</td>\n",
       "      <td>28</td>\n",
       "      <td>64</td>\n",
       "      <td>00:45:00</td>\n",
       "      <td>['-A lt1_starter-245']</td>\n",
       "      <td>True</td>\n",
       "      <td>/vsc-mounts/gent-user/420/vsc42015/projects/da...</td>\n",
       "      <td>10</td>\n",
       "      <td>/local_scratch/</td>\n",
       "      <td>/vsc-mounts/gent-user/420/vsc42015/projects/da...</td>\n",
       "      <td>scip.yml</td>\n",
       "      <td>['/data/gent/vo/000/gvo00070/vsc42015/datasets...</td>\n",
       "      <td>NaN</td>\n",
       "      <td>False</td>\n",
       "      <td>1</td>\n",
       "      <td>1498.980985</td>\n",
       "    </tr>\n",
       "    <tr>\n",
       "      <th>4</th>\n",
       "      <td>16</td>\n",
       "      <td>1</td>\n",
       "      <td>False</td>\n",
       "      <td>28</td>\n",
       "      <td>64</td>\n",
       "      <td>00:45:00</td>\n",
       "      <td>['-A lt1_starter-245']</td>\n",
       "      <td>True</td>\n",
       "      <td>/vsc-mounts/gent-user/420/vsc42015/projects/da...</td>\n",
       "      <td>10</td>\n",
       "      <td>/local_scratch/</td>\n",
       "      <td>/vsc-mounts/gent-user/420/vsc42015/projects/da...</td>\n",
       "      <td>scip.yml</td>\n",
       "      <td>['/data/gent/vo/000/gvo00070/vsc42015/datasets...</td>\n",
       "      <td>NaN</td>\n",
       "      <td>False</td>\n",
       "      <td>1</td>\n",
       "      <td>710.540564</td>\n",
       "    </tr>\n",
       "  </tbody>\n",
       "</table>\n",
       "</div>"
      ],
      "text/plain": [
       "   n_workers  n_threads  local  n_cores  memory  walltime  \\\n",
       "0          8          2  False       28      64  00:45:00   \n",
       "1         16          1  False       28      64  00:45:00   \n",
       "2          8          2  False       28      64  00:45:00   \n",
       "3          8          2  False       28      64  00:45:00   \n",
       "4         16          1  False       28      64  00:45:00   \n",
       "\n",
       "                job_extra  headless  \\\n",
       "0  ['-A lt1_starter-245']      True   \n",
       "1  ['-A lt1_starter-245']      True   \n",
       "2  ['-A lt1_starter-245']      True   \n",
       "3  ['-A lt1_starter-245']      True   \n",
       "4  ['-A lt1_starter-245']      True   \n",
       "\n",
       "                                              timing  partition_size  \\\n",
       "0  /vsc-mounts/gent-user/420/vsc42015/projects/da...              10   \n",
       "1  /vsc-mounts/gent-user/420/vsc42015/projects/da...              10   \n",
       "2  /vsc-mounts/gent-user/420/vsc42015/projects/da...              10   \n",
       "3  /vsc-mounts/gent-user/420/vsc42015/projects/da...              10   \n",
       "4  /vsc-mounts/gent-user/420/vsc42015/projects/da...              10   \n",
       "\n",
       "   local_directory                                             output  \\\n",
       "0  /local_scratch/  /vsc-mounts/gent-user/420/vsc42015/projects/da...   \n",
       "1  /local_scratch/  /vsc-mounts/gent-user/420/vsc42015/projects/da...   \n",
       "2  /local_scratch/  /vsc-mounts/gent-user/420/vsc42015/projects/da...   \n",
       "3  /local_scratch/  /vsc-mounts/gent-user/420/vsc42015/projects/da...   \n",
       "4  /local_scratch/  /vsc-mounts/gent-user/420/vsc42015/projects/da...   \n",
       "\n",
       "     config                                              paths  port  debug  \\\n",
       "0  scip.yml  ['/data/gent/vo/000/gvo00070/vsc42015/datasets...   NaN  False   \n",
       "1  scip.yml  ['/data/gent/vo/000/gvo00070/vsc42015/datasets...   NaN  False   \n",
       "2  scip.yml  ['/data/gent/vo/000/gvo00070/vsc42015/datasets...   NaN  False   \n",
       "3  scip.yml  ['/data/gent/vo/000/gvo00070/vsc42015/datasets...   NaN  False   \n",
       "4  scip.yml  ['/data/gent/vo/000/gvo00070/vsc42015/datasets...   NaN  False   \n",
       "\n",
       "   n_nodes      runtime  \n",
       "0        1  1502.437177  \n",
       "1        1   676.593552  \n",
       "2        1  1447.967548  \n",
       "3        1  1498.980985  \n",
       "4        1   710.540564  "
      ]
     },
     "execution_count": 7,
     "metadata": {},
     "output_type": "execute_result"
    }
   ],
   "source": [
    "df.head()"
   ]
  },
  {
   "cell_type": "code",
   "execution_count": 10,
   "id": "351af4f1-5774-4133-805a-e807cb9f0463",
   "metadata": {},
   "outputs": [
    {
     "data": {
      "image/png": "[encoded data removed]",
      "text/plain": [
       "<Figure size 432x288 with 1 Axes>"
      ]
     },
     "metadata": {
      "needs_background": "light"
     },
     "output_type": "display_data"
    }
   ],
   "source": [
    "ax = seaborn.lineplot(data=df, x=\"n_workers\", y=\"runtime\", markers=True) \n",
    "\n",
    "baseline = df[df[\"n_workers\"] == 2][\"runtime\"].mean()\n",
    "ax.plot((2, 16), (baseline, baseline/8), linestyle=\"--\")\n",
    "ax.set_xscale(\"log\", basex=2)"
   ]
  },
  {
   "cell_type": "code",
   "execution_count": null,
   "id": "5f0fc7b8-f087-49eb-8c32-2406a131d72b",
   "metadata": {},
   "outputs": [],
   "source": []
  }
 ],
 "metadata": {
  "kernelspec": {
   "display_name": "Python 3",
   "language": "python",
   "name": "python3"
  },
  "language_info": {
   "codemirror_mode": {
    "name": "ipython",
    "version": 3
   },
   "file_extension": ".py",
   "mimetype": "text/x-python",
   "name": "python",
   "nbconvert_exporter": "python",
   "pygments_lexer": "ipython3",
   "version": "3.8.10"
  }
 },
 "nbformat": 4,
 "nbformat_minor": 5
}
