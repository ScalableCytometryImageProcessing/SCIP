{
 "cells": [
  {
   "cell_type": "code",
   "execution_count": 1,
   "id": "27bc2694-f5a3-46e0-8ac3-5fa7ebfde880",
   "metadata": {},
   "outputs": [],
   "source": [
    "import pandas\n",
    "import seaborn\n",
    "import numpy"
   ]
  },
  {
   "cell_type": "markdown",
   "id": "fa1e01ca-c324-4ea3-89eb-4eea632e4e09",
   "metadata": {},
   "source": [
    "# Scalability benchmark results\n",
    "\n",
    "The SCIP tool ([commit](https://github.com/ScalableImagingPipeline/dask-pipeline/commit/db5adcd96ad4128e2dbba793676a0bc45ab00b18)) was ran on the Prism cluster on a Vulcan PBMC dataset of 1000 4-channel images. The amount of Dask worker processes was varied from 2 to 16, doubling the number of processes each time. Each measurement was repeated 3 times. Only one cluster node was used, which has 250GB of memory and 24 cores."
   ]
  },
  {
   "cell_type": "code",
   "execution_count": 2,
   "id": "6740a1d0-c454-4520-bf20-e9e377e23af7",
   "metadata": {},
   "outputs": [],
   "source": [
    "df = pandas.read_csv(\"../benchmark_results/0bd21bb93eb5661fca943748eca46723aae5f81a.csv\")"
   ]
  },
  {
   "cell_type": "code",
   "execution_count": 3,
   "id": "82f25bd2-8a72-45b6-b0d8-05962e6eb31f",
   "metadata": {},
   "outputs": [],
   "source": [
    "df = pandas.read_csv(\"../benchmark_results/db5adcd96ad4128e2dbba793676a0bc45ab00b18.csv\")"
   ]
  },
  {
   "cell_type": "code",
   "execution_count": 4,
   "id": "a8337309-51f3-4644-89a4-bd547b828b6c",
   "metadata": {},
   "outputs": [
    {
     "data": {
      "text/plain": [
       "(12, 11)"
      ]
     },
     "execution_count": 4,
     "metadata": {},
     "output_type": "execute_result"
    }
   ],
   "source": [
    "df.shape"
   ]
  },
  {
   "cell_type": "code",
   "execution_count": 5,
   "id": "df494b50-8df7-4da5-afe6-ed4330f14e7d",
   "metadata": {},
   "outputs": [
    {
     "data": {
      "text/html": [
       "<div>\n",
       "<style scoped>\n",
       "    .dataframe tbody tr th:only-of-type {\n",
       "        vertical-align: middle;\n",
       "    }\n",
       "\n",
       "    .dataframe tbody tr th {\n",
       "        vertical-align: top;\n",
       "    }\n",
       "\n",
       "    .dataframe thead th {\n",
       "        text-align: right;\n",
       "    }\n",
       "</style>\n",
       "<table border=\"1\" class=\"dataframe\">\n",
       "  <thead>\n",
       "    <tr style=\"text-align: right;\">\n",
       "      <th></th>\n",
       "      <th>n_workers</th>\n",
       "      <th>n_processes</th>\n",
       "      <th>local</th>\n",
       "      <th>headless</th>\n",
       "      <th>partition_size</th>\n",
       "      <th>output</th>\n",
       "      <th>config</th>\n",
       "      <th>paths</th>\n",
       "      <th>port</th>\n",
       "      <th>debug</th>\n",
       "      <th>runtime</th>\n",
       "    </tr>\n",
       "  </thead>\n",
       "  <tbody>\n",
       "    <tr>\n",
       "      <th>0</th>\n",
       "      <td>1</td>\n",
       "      <td>4</td>\n",
       "      <td>False</td>\n",
       "      <td>True</td>\n",
       "      <td>50</td>\n",
       "      <td>/home/maximl/daskPipeline/benchmark_2021082711...</td>\n",
       "      <td>scip.yml</td>\n",
       "      <td>['/home/maximl/shared_scratch/vulcan_pbmc_1000']</td>\n",
       "      <td>NaN</td>\n",
       "      <td>False</td>\n",
       "      <td>278.168406</td>\n",
       "    </tr>\n",
       "    <tr>\n",
       "      <th>1</th>\n",
       "      <td>1</td>\n",
       "      <td>8</td>\n",
       "      <td>False</td>\n",
       "      <td>True</td>\n",
       "      <td>50</td>\n",
       "      <td>/home/maximl/daskPipeline/benchmark_2021082711...</td>\n",
       "      <td>scip.yml</td>\n",
       "      <td>['/home/maximl/shared_scratch/vulcan_pbmc_1000']</td>\n",
       "      <td>NaN</td>\n",
       "      <td>False</td>\n",
       "      <td>186.589405</td>\n",
       "    </tr>\n",
       "    <tr>\n",
       "      <th>2</th>\n",
       "      <td>1</td>\n",
       "      <td>8</td>\n",
       "      <td>False</td>\n",
       "      <td>True</td>\n",
       "      <td>50</td>\n",
       "      <td>/home/maximl/daskPipeline/benchmark_2021082711...</td>\n",
       "      <td>scip.yml</td>\n",
       "      <td>['/home/maximl/shared_scratch/vulcan_pbmc_1000']</td>\n",
       "      <td>NaN</td>\n",
       "      <td>False</td>\n",
       "      <td>181.909339</td>\n",
       "    </tr>\n",
       "    <tr>\n",
       "      <th>3</th>\n",
       "      <td>1</td>\n",
       "      <td>4</td>\n",
       "      <td>False</td>\n",
       "      <td>True</td>\n",
       "      <td>50</td>\n",
       "      <td>/home/maximl/daskPipeline/benchmark_2021082711...</td>\n",
       "      <td>scip.yml</td>\n",
       "      <td>['/home/maximl/shared_scratch/vulcan_pbmc_1000']</td>\n",
       "      <td>NaN</td>\n",
       "      <td>False</td>\n",
       "      <td>286.787316</td>\n",
       "    </tr>\n",
       "    <tr>\n",
       "      <th>4</th>\n",
       "      <td>1</td>\n",
       "      <td>16</td>\n",
       "      <td>False</td>\n",
       "      <td>True</td>\n",
       "      <td>50</td>\n",
       "      <td>/home/maximl/daskPipeline/benchmark_2021082711...</td>\n",
       "      <td>scip.yml</td>\n",
       "      <td>['/home/maximl/shared_scratch/vulcan_pbmc_1000']</td>\n",
       "      <td>NaN</td>\n",
       "      <td>False</td>\n",
       "      <td>134.052268</td>\n",
       "    </tr>\n",
       "  </tbody>\n",
       "</table>\n",
       "</div>"
      ],
      "text/plain": [
       "   n_workers  n_processes  local  headless  partition_size  \\\n",
       "0          1            4  False      True              50   \n",
       "1          1            8  False      True              50   \n",
       "2          1            8  False      True              50   \n",
       "3          1            4  False      True              50   \n",
       "4          1           16  False      True              50   \n",
       "\n",
       "                                              output    config  \\\n",
       "0  /home/maximl/daskPipeline/benchmark_2021082711...  scip.yml   \n",
       "1  /home/maximl/daskPipeline/benchmark_2021082711...  scip.yml   \n",
       "2  /home/maximl/daskPipeline/benchmark_2021082711...  scip.yml   \n",
       "3  /home/maximl/daskPipeline/benchmark_2021082711...  scip.yml   \n",
       "4  /home/maximl/daskPipeline/benchmark_2021082711...  scip.yml   \n",
       "\n",
       "                                              paths  port  debug     runtime  \n",
       "0  ['/home/maximl/shared_scratch/vulcan_pbmc_1000']   NaN  False  278.168406  \n",
       "1  ['/home/maximl/shared_scratch/vulcan_pbmc_1000']   NaN  False  186.589405  \n",
       "2  ['/home/maximl/shared_scratch/vulcan_pbmc_1000']   NaN  False  181.909339  \n",
       "3  ['/home/maximl/shared_scratch/vulcan_pbmc_1000']   NaN  False  286.787316  \n",
       "4  ['/home/maximl/shared_scratch/vulcan_pbmc_1000']   NaN  False  134.052268  "
      ]
     },
     "execution_count": 5,
     "metadata": {},
     "output_type": "execute_result"
    }
   ],
   "source": [
    "df.head()"
   ]
  },
  {
   "cell_type": "code",
   "execution_count": 25,
   "id": "351af4f1-5774-4133-805a-e807cb9f0463",
   "metadata": {},
   "outputs": [
    {
     "data": {
      "image/png": "[encoded data removed]",
      "text/plain": [
       "<Figure size 432x288 with 1 Axes>"
      ]
     },
     "metadata": {
      "needs_background": "light"
     },
     "output_type": "display_data"
    }
   ],
   "source": [
    "ax = seaborn.lineplot(data=df, x=\"n_processes\", y=\"runtime\", markers=True) \n",
    "\n",
    "baseline = df[df[\"n_processes\"] == 2][\"runtime\"].mean()\n",
    "ax.plot((2, 16), (baseline, baseline/8), linestyle=\"--\")\n",
    "ax.set_xscale(\"log\", basex=2)"
   ]
  },
  {
   "cell_type": "code",
   "execution_count": null,
   "id": "5f0fc7b8-f087-49eb-8c32-2406a131d72b",
   "metadata": {},
   "outputs": [],
   "source": []
  }
 ],
 "metadata": {
  "kernelspec": {
   "display_name": "Python 3",
   "language": "python",
   "name": "python3"
  },
  "language_info": {
   "codemirror_mode": {
    "name": "ipython",
    "version": 3
   },
   "file_extension": ".py",
   "mimetype": "text/x-python",
   "name": "python",
   "nbconvert_exporter": "python",
   "pygments_lexer": "ipython3",
   "version": "3.8.10"
  }
 },
 "nbformat": 4,
 "nbformat_minor": 5
}
