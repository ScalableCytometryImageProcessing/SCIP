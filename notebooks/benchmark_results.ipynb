{
 "cells": [
  {
   "cell_type": "code",
   "execution_count": 1,
   "id": "27bc2694-f5a3-46e0-8ac3-5fa7ebfde880",
   "metadata": {},
   "outputs": [],
   "source": [
    "import pandas\n",
    "import seaborn"
   ]
  },
  {
   "cell_type": "code",
   "execution_count": 2,
   "id": "6740a1d0-c454-4520-bf20-e9e377e23af7",
   "metadata": {},
   "outputs": [],
   "source": [
    "df = pandas.read_csv(\"../benchmark_20210730162248/timing_results.csv\")"
   ]
  },
  {
   "cell_type": "code",
   "execution_count": 3,
   "id": "df494b50-8df7-4da5-afe6-ed4330f14e7d",
   "metadata": {},
   "outputs": [
    {
     "data": {
      "text/html": [
       "<div>\n",
       "<style scoped>\n",
       "    .dataframe tbody tr th:only-of-type {\n",
       "        vertical-align: middle;\n",
       "    }\n",
       "\n",
       "    .dataframe tbody tr th {\n",
       "        vertical-align: top;\n",
       "    }\n",
       "\n",
       "    .dataframe thead th {\n",
       "        text-align: right;\n",
       "    }\n",
       "</style>\n",
       "<table border=\"1\" class=\"dataframe\">\n",
       "  <thead>\n",
       "    <tr style=\"text-align: right;\">\n",
       "      <th></th>\n",
       "      <th>n_workers</th>\n",
       "      <th>processes</th>\n",
       "      <th>local</th>\n",
       "      <th>headless</th>\n",
       "      <th>config</th>\n",
       "      <th>paths</th>\n",
       "      <th>port</th>\n",
       "      <th>debug</th>\n",
       "      <th>output</th>\n",
       "      <th>runtime</th>\n",
       "    </tr>\n",
       "  </thead>\n",
       "  <tbody>\n",
       "    <tr>\n",
       "      <th>0</th>\n",
       "      <td>1</td>\n",
       "      <td>1</td>\n",
       "      <td>False</td>\n",
       "      <td>True</td>\n",
       "      <td>scip.yml</td>\n",
       "      <td>['/home/maximl/shared_scratch/vulcan_pbmc_debug']</td>\n",
       "      <td>NaN</td>\n",
       "      <td>False</td>\n",
       "      <td>NaN</td>\n",
       "      <td>28.129186</td>\n",
       "    </tr>\n",
       "    <tr>\n",
       "      <th>1</th>\n",
       "      <td>1</td>\n",
       "      <td>1</td>\n",
       "      <td>False</td>\n",
       "      <td>True</td>\n",
       "      <td>scip.yml</td>\n",
       "      <td>['/home/maximl/shared_scratch/vulcan_pbmc_debug']</td>\n",
       "      <td>NaN</td>\n",
       "      <td>False</td>\n",
       "      <td>NaN</td>\n",
       "      <td>57.397056</td>\n",
       "    </tr>\n",
       "    <tr>\n",
       "      <th>2</th>\n",
       "      <td>1</td>\n",
       "      <td>1</td>\n",
       "      <td>False</td>\n",
       "      <td>True</td>\n",
       "      <td>scip.yml</td>\n",
       "      <td>['/home/maximl/shared_scratch/vulcan_pbmc_debug']</td>\n",
       "      <td>NaN</td>\n",
       "      <td>False</td>\n",
       "      <td>NaN</td>\n",
       "      <td>47.609829</td>\n",
       "    </tr>\n",
       "    <tr>\n",
       "      <th>3</th>\n",
       "      <td>1</td>\n",
       "      <td>1</td>\n",
       "      <td>False</td>\n",
       "      <td>True</td>\n",
       "      <td>scip.yml</td>\n",
       "      <td>['/home/maximl/shared_scratch/vulcan_pbmc_debug']</td>\n",
       "      <td>NaN</td>\n",
       "      <td>False</td>\n",
       "      <td>NaN</td>\n",
       "      <td>64.762003</td>\n",
       "    </tr>\n",
       "    <tr>\n",
       "      <th>4</th>\n",
       "      <td>1</td>\n",
       "      <td>1</td>\n",
       "      <td>False</td>\n",
       "      <td>True</td>\n",
       "      <td>scip.yml</td>\n",
       "      <td>['/home/maximl/shared_scratch/vulcan_pbmc_debug']</td>\n",
       "      <td>NaN</td>\n",
       "      <td>False</td>\n",
       "      <td>NaN</td>\n",
       "      <td>27.838988</td>\n",
       "    </tr>\n",
       "  </tbody>\n",
       "</table>\n",
       "</div>"
      ],
      "text/plain": [
       "   n_workers  processes  local  headless    config  \\\n",
       "0          1          1  False      True  scip.yml   \n",
       "1          1          1  False      True  scip.yml   \n",
       "2          1          1  False      True  scip.yml   \n",
       "3          1          1  False      True  scip.yml   \n",
       "4          1          1  False      True  scip.yml   \n",
       "\n",
       "                                               paths  port  debug  output  \\\n",
       "0  ['/home/maximl/shared_scratch/vulcan_pbmc_debug']   NaN  False     NaN   \n",
       "1  ['/home/maximl/shared_scratch/vulcan_pbmc_debug']   NaN  False     NaN   \n",
       "2  ['/home/maximl/shared_scratch/vulcan_pbmc_debug']   NaN  False     NaN   \n",
       "3  ['/home/maximl/shared_scratch/vulcan_pbmc_debug']   NaN  False     NaN   \n",
       "4  ['/home/maximl/shared_scratch/vulcan_pbmc_debug']   NaN  False     NaN   \n",
       "\n",
       "     runtime  \n",
       "0  28.129186  \n",
       "1  57.397056  \n",
       "2  47.609829  \n",
       "3  64.762003  \n",
       "4  27.838988  "
      ]
     },
     "execution_count": 3,
     "metadata": {},
     "output_type": "execute_result"
    }
   ],
   "source": [
    "df.head()"
   ]
  },
  {
   "cell_type": "code",
   "execution_count": 10,
   "id": "351af4f1-5774-4133-805a-e807cb9f0463",
   "metadata": {},
   "outputs": [
    {
     "data": {
      "text/plain": [
       "<matplotlib.axes._subplots.AxesSubplot at 0x7f82fce5bd30>"
      ]
     },
     "execution_count": 10,
     "metadata": {},
     "output_type": "execute_result"
    },
    {
     "data": {
      "image/png": "[encoded data removed]",
      "text/plain": [
       "<Figure size 432x288 with 1 Axes>"
      ]
     },
     "metadata": {
      "needs_background": "light"
     },
     "output_type": "display_data"
    }
   ],
   "source": [
    "seaborn.lineplot(data=df, x=\"processes\", y=\"runtime\")"
   ]
  },
  {
   "cell_type": "code",
   "execution_count": null,
   "id": "e0b33979-7865-4548-8e58-8918198b1ee4",
   "metadata": {},
   "outputs": [],
   "source": []
  }
 ],
 "metadata": {
  "kernelspec": {
   "display_name": "Python 3",
   "language": "python",
   "name": "python3"
  },
  "language_info": {
   "codemirror_mode": {
    "name": "ipython",
    "version": 3
   },
   "file_extension": ".py",
   "mimetype": "text/x-python",
   "name": "python",
   "nbconvert_exporter": "python",
   "pygments_lexer": "ipython3",
   "version": "3.8.10"
  }
 },
 "nbformat": 4,
 "nbformat_minor": 5
}
