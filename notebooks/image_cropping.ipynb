{
 "cells": [
  {
   "cell_type": "code",
   "execution_count": 50,
   "id": "49ed1ee7-c7be-4d12-a057-e9c8511ff91f",
   "metadata": {},
   "outputs": [],
   "source": [
    "import numpy\n",
    "import operator\n",
    "from PIL import Image\n",
    "import matplotlib.pyplot as plt"
   ]
  },
  {
   "cell_type": "code",
   "execution_count": 74,
   "id": "ef16c1f8-7ff1-48c3-abcd-31d6ef07badd",
   "metadata": {},
   "outputs": [],
   "source": [
    "img = Image.open(\"/home/maximl/shared_scratch/vulcan_pbmc_debug/pbmc+PI_00009910.tiff\")"
   ]
  },
  {
   "cell_type": "code",
   "execution_count": 75,
   "id": "4c50eea6-a09e-412c-b042-d2d102ddae7c",
   "metadata": {},
   "outputs": [],
   "source": [
    "im = []\n",
    "for i in range(4):\n",
    "    img.seek(i)\n",
    "    im.append(numpy.array(img))\n",
    "img = numpy.array(im)"
   ]
  },
  {
   "cell_type": "code",
   "execution_count": 76,
   "id": "1ccf1813-bacc-46bc-8116-53d02ad67190",
   "metadata": {},
   "outputs": [
    {
     "data": {
      "text/plain": [
       "(4, 25, 104)"
      ]
     },
     "execution_count": 76,
     "metadata": {},
     "output_type": "execute_result"
    }
   ],
   "source": [
    "img.shape"
   ]
  },
  {
   "cell_type": "code",
   "execution_count": 77,
   "id": "a0e580dc-4544-4688-baf0-222da9eef81a",
   "metadata": {},
   "outputs": [],
   "source": [
    "def croppadND(img, bounding):\n",
    "    padding = tuple(map(lambda a,b: abs(min(0, b-a)), bounding, img.shape))\n",
    "    if sum(padding) > 0:\n",
    "        before_after = tuple(map(lambda a: (a//2, (a//2)+(a%2)), padding))\n",
    "        img = numpy.pad(\n",
    "            array=img,\n",
    "            pad_width=before_after,\n",
    "            mode='edge'\n",
    "        )\n",
    "        \n",
    "    start = tuple(map(lambda a, da: a//2-da//2, img.shape, bounding))\n",
    "    end = tuple(map(operator.add, start, bounding))\n",
    "    slices = tuple(map(slice, start, end))\n",
    "    return img[slices]"
   ]
  },
  {
   "cell_type": "code",
   "execution_count": 84,
   "id": "cfb3f195-2940-4022-ba19-03609878f70c",
   "metadata": {},
   "outputs": [
    {
     "data": {
      "text/plain": [
       "<matplotlib.image.AxesImage at 0x7f3c477c77c0>"
      ]
     },
     "execution_count": 84,
     "metadata": {},
     "output_type": "execute_result"
    },
    {
     "data": {
      "image/png": "[encoded data removed]",
      "text/plain": [
       "<Figure size 432x288 with 1 Axes>"
      ]
     },
     "metadata": {
      "needs_background": "light"
     },
     "output_type": "display_data"
    }
   ],
   "source": [
    "plt.imshow(img[3])"
   ]
  },
  {
   "cell_type": "code",
   "execution_count": 85,
   "id": "ce767968-f3f5-4b28-97d0-3d3524871aa3",
   "metadata": {},
   "outputs": [
    {
     "data": {
      "text/plain": [
       "<matplotlib.image.AxesImage at 0x7f3c47724670>"
      ]
     },
     "execution_count": 85,
     "metadata": {},
     "output_type": "execute_result"
    },
    {
     "data": {
      "image/png": "[encoded data removed]",
      "text/plain": [
       "<Figure size 432x288 with 1 Axes>"
      ]
     },
     "metadata": {
      "needs_background": "light"
     },
     "output_type": "display_data"
    }
   ],
   "source": [
    "bounding = (4,32,32)\n",
    "plt.imshow(cropND(img, (4,32,32))[3])"
   ]
  },
  {
   "cell_type": "code",
   "execution_count": null,
   "id": "3bf26317-8db8-46c8-ab46-806e2da19b4d",
   "metadata": {},
   "outputs": [],
   "source": []
  }
 ],
 "metadata": {
  "kernelspec": {
   "display_name": "Python 3 (ipykernel)",
   "language": "python",
   "name": "python3"
  },
  "language_info": {
   "codemirror_mode": {
    "name": "ipython",
    "version": 3
   },
   "file_extension": ".py",
   "mimetype": "text/x-python",
   "name": "python",
   "nbconvert_exporter": "python",
   "pygments_lexer": "ipython3",
   "version": "3.9.5"
  }
 },
 "nbformat": 4,
 "nbformat_minor": 5
}
