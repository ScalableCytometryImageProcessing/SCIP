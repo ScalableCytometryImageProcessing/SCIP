{
 "cells": [
  {
   "cell_type": "code",
   "execution_count": 1,
   "metadata": {},
   "outputs": [],
   "source": [
    "import pickle\n",
    "import matplotlib.pyplot as plt\n",
    "import numpy"
   ]
  },
  {
   "cell_type": "code",
   "execution_count": 2,
   "metadata": {},
   "outputs": [],
   "source": [
    "with open(\"../test/data/masked.pickle\", \"rb\") as fh:\n",
    "    data = pickle.load(fh)"
   ]
  },
  {
   "cell_type": "code",
   "execution_count": 3,
   "metadata": {},
   "outputs": [],
   "source": [
    "metadata = {}\n",
    "for d in data:\n",
    "    tmp = dict(quantiles=[], sizes=[])\n",
    "    for i in range(4):\n",
    "        v = d[\"pixels\"][i][d[\"mask\"][i]]\n",
    "        if(len(v) > 0):\n",
    "            tmp[\"quantiles\"].append(numpy.quantile(v, (0.05, 0.95)))\n",
    "            tmp[\"sizes\"].append(v.size)\n",
    "        else:\n",
    "            tmp[\"quantiles\"].append([numpy.nan]*2)\n",
    "            tmp[\"sizes\"].append(v.size)\n",
    "            \n",
    "    tmp[\"quantiles\"] = numpy.array(tmp[\"quantiles\"])\n",
    "    metadata[d[\"path\"]] = tmp"
   ]
  },
  {
   "cell_type": "code",
   "execution_count": 4,
   "metadata": {},
   "outputs": [],
   "source": [
    "with open(\"../test/data/masked_meta.pickle\", \"wb\") as fh:\n",
    "    pickle.dump(metadata, fh)"
   ]
  },
  {
   "cell_type": "code",
   "execution_count": 5,
   "metadata": {},
   "outputs": [],
   "source": [
    "values  = []\n",
    "for i in range(4):\n",
    "    tmp = numpy.empty(shape=(0,))\n",
    "    for d in data:\n",
    "        tmp = numpy.concatenate((tmp, d[\"pixels\"][i][d[\"mask\"][i]]))\n",
    "    values.append(tmp)"
   ]
  },
  {
   "cell_type": "code",
   "execution_count": 6,
   "metadata": {},
   "outputs": [],
   "source": [
    "tmp = []\n",
    "tmp2 = []\n",
    "for i in range(4):\n",
    "    tmp2.append((numpy.max(values[i]) - numpy.min(values[i]))*0.05)\n",
    "    tmp.append(numpy.quantile(values[i], (0.05, 0.95)))\n",
    "tmp = numpy.array(tmp)\n",
    "tmp2 = numpy.array(tmp2)"
   ]
  },
  {
   "cell_type": "code",
   "execution_count": 7,
   "metadata": {},
   "outputs": [
    {
     "data": {
      "text/plain": [
       "array([[ 0.07941609,  0.14391974],\n",
       "       [ 0.00249602,  0.30231654],\n",
       "       [-0.00783976,  0.2911691 ],\n",
       "       [-0.03652233,  0.70181963]])"
      ]
     },
     "execution_count": 7,
     "metadata": {},
     "output_type": "execute_result"
    }
   ],
   "source": [
    "tmp"
   ]
  },
  {
   "cell_type": "code",
   "execution_count": 130,
   "metadata": {},
   "outputs": [
    {
     "data": {
      "text/plain": [
       "array([[False, False],\n",
       "       [ True, False],\n",
       "       [ True, False],\n",
       "       [ True, False]])"
      ]
     },
     "execution_count": 130,
     "metadata": {},
     "output_type": "execute_result"
    }
   ],
   "source": [
    "tmp < numpy.tile(tmp2, (2,1)).T"
   ]
  },
  {
   "cell_type": "code",
   "execution_count": 112,
   "metadata": {},
   "outputs": [],
   "source": [
    "numpy.save(\"../test/data/quantiles.npy\", tmp)"
   ]
  },
  {
   "cell_type": "code",
   "execution_count": 132,
   "metadata": {},
   "outputs": [],
   "source": [
    "numpy.save(\"../test/data/quantile_errors.npy\", tmp2)"
   ]
  },
  {
   "cell_type": "code",
   "execution_count": 36,
   "metadata": {},
   "outputs": [],
   "source": [
    "def load_image(event, channels=None):\n",
    "    from PIL import Image\n",
    "    \n",
    "    \"\"\"\n",
    "    Load an image from a certain path\n",
    "\n",
    "    Args:\n",
    "        path (str): path of image\n",
    "        channels (list, optional): image channels to load. Defaults to None.\n",
    "\n",
    "    Returns:\n",
    "        dict: dictionary containing pixel values (ndarray) and path for each image\n",
    "    \"\"\"\n",
    "    im = Image.open(event[\"path\"])\n",
    "\n",
    "    if channels is None:\n",
    "        channels = range(im.n_frames)\n",
    "\n",
    "    arr = numpy.empty(shape=(len(channels), im.height, im.width), dtype=float)\n",
    "    for i in channels:\n",
    "        im.seek(i)\n",
    "        arr[i] = numpy.array(im)\n",
    "    return dict(pixels=arr, path=event[\"path\"], idx=event[\"idx\"])"
   ]
  },
  {
   "cell_type": "code",
   "execution_count": 51,
   "metadata": {},
   "outputs": [],
   "source": [
    "tiff = load_image(dict(path=\"/data/Experiment_data/VIB/Vulcan/Slava_PBMC/images_subset/pbmc+PI_00000002.tiff\", idx=0))"
   ]
  },
  {
   "cell_type": "code",
   "execution_count": 52,
   "metadata": {},
   "outputs": [
    {
     "data": {
      "text/plain": [
       "<matplotlib.image.AxesImage at 0x7fb5a5508f40>"
      ]
     },
     "execution_count": 52,
     "metadata": {},
     "output_type": "execute_result"
    },
    {
     "data": {
      "image/png": "[encoded data removed]",
      "text/plain": [
       "<Figure size 432x288 with 1 Axes>"
      ]
     },
     "metadata": {
      "needs_background": "light"
     },
     "output_type": "display_data"
    }
   ],
   "source": [
    "plt.imshow(tiff[\"pixels\"][0])"
   ]
  },
  {
   "cell_type": "code",
   "execution_count": null,
   "metadata": {},
   "outputs": [],
   "source": []
  }
 ],
 "metadata": {
  "kernelspec": {
   "display_name": "Python 3",
   "language": "python",
   "name": "python3"
  },
  "language_info": {
   "codemirror_mode": {
    "name": "ipython",
    "version": 3
   },
   "file_extension": ".py",
   "mimetype": "text/x-python",
   "name": "python",
   "nbconvert_exporter": "python",
   "pygments_lexer": "ipython3",
   "version": "3.8.10"
  }
 },
 "nbformat": 4,
 "nbformat_minor": 4
}
