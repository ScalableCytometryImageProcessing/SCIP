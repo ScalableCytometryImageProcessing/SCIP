{
 "cells": [
  {
   "cell_type": "code",
   "execution_count": 3,
   "metadata": {},
   "outputs": [],
   "source": [
    "from skimage.morphology import label, closing, disk, remove_small_holes, remove_small_objects\n",
    "from skimage.filters import threshold_otsu, sobel\n",
    "from skimage.segmentation import expand_labels\n",
    "from skimage.restoration import denoise_nl_means\n",
    "from skimage import img_as_float32\n",
    "\n",
    "import tifffile\n",
    "import matplotlib.pyplot as plt\n",
    "import numpy"
   ]
  },
  {
   "cell_type": "code",
   "execution_count": 74,
   "metadata": {},
   "outputs": [],
   "source": [
    "paths = [\n",
    "    \"/data/Experiment_data/weizmann/EhV/high_time_res/High/images/H1_T8_subset/500_Ch1.ome.tif\",\n",
    "    \"/data/Experiment_data/weizmann/EhV/high_time_res/High/images/H1_T8_subset/500_Ch4.ome.tif\",\n",
    "    \"/data/Experiment_data/weizmann/EhV/high_time_res/High/images/H1_T8_subset/500_Ch6.ome.tif\",\n",
    "    \"/data/Experiment_data/weizmann/EhV/high_time_res/High/images/H1_T8_subset/500_Ch7.ome.tif\",\n",
    "    \"/data/Experiment_data/weizmann/EhV/high_time_res/High/images/H1_T8_subset/500_Ch11.ome.tif\"\n",
    "]"
   ]
  },
  {
   "cell_type": "code",
   "execution_count": 79,
   "metadata": {},
   "outputs": [],
   "source": [
    "paths = [\n",
    "    \"/data/Experiment_data/weizmann/EhV/high_time_res/High/images/H1_T8_subset/1000_Ch1.ome.tif\",\n",
    "    \"/data/Experiment_data/weizmann/EhV/high_time_res/High/images/H1_T8_subset/1000_Ch4.ome.tif\",\n",
    "    \"/data/Experiment_data/weizmann/EhV/high_time_res/High/images/H1_T8_subset/1000_Ch6.ome.tif\",\n",
    "    \"/data/Experiment_data/weizmann/EhV/high_time_res/High/images/H1_T8_subset/1000_Ch7.ome.tif\",\n",
    "    \"/data/Experiment_data/weizmann/EhV/high_time_res/High/images/H1_T8_subset/1000_Ch11.ome.tif\"\n",
    "]"
   ]
  },
  {
   "cell_type": "code",
   "execution_count": 143,
   "metadata": {},
   "outputs": [],
   "source": [
    "paths = [\n",
    "    \"/data/Experiment_data/weizmann/EhV/high_time_res/High/images/H1_T8_subset/1100_Ch1.ome.tif\",\n",
    "    \"/data/Experiment_data/weizmann/EhV/high_time_res/High/images/H1_T8_subset/1100_Ch4.ome.tif\",\n",
    "    \"/data/Experiment_data/weizmann/EhV/high_time_res/High/images/H1_T8_subset/1100_Ch6.ome.tif\",\n",
    "    \"/data/Experiment_data/weizmann/EhV/high_time_res/High/images/H1_T8_subset/1100_Ch7.ome.tif\",\n",
    "    \"/data/Experiment_data/weizmann/EhV/high_time_res/High/images/H1_T8_subset/1100_Ch11.ome.tif\"\n",
    "]"
   ]
  },
  {
   "cell_type": "code",
   "execution_count": 89,
   "metadata": {},
   "outputs": [],
   "source": [
    "paths = [\n",
    "    \"/data/Experiment_data/weizmann/EhV/high_time_res/High/images/H1_T8_subset/2000_Ch1.ome.tif\",\n",
    "    \"/data/Experiment_data/weizmann/EhV/high_time_res/High/images/H1_T8_subset/2000_Ch4.ome.tif\",\n",
    "    \"/data/Experiment_data/weizmann/EhV/high_time_res/High/images/H1_T8_subset/2000_Ch6.ome.tif\",\n",
    "    \"/data/Experiment_data/weizmann/EhV/high_time_res/High/images/H1_T8_subset/2000_Ch7.ome.tif\",\n",
    "    \"/data/Experiment_data/weizmann/EhV/high_time_res/High/images/H1_T8_subset/2000_Ch11.ome.tif\"\n",
    "]"
   ]
  },
  {
   "cell_type": "code",
   "execution_count": 4,
   "metadata": {},
   "outputs": [],
   "source": [
    "paths = [\n",
    "    '/data/Experiment_data/weizmann/EhV/high_time_res/High/images/H1_T8_1/1_Ch1.ome.tif',\n",
    "    '/data/Experiment_data/weizmann/EhV/high_time_res/High/images/H1_T8_1/1_Ch4.ome.tif',\n",
    "    '/data/Experiment_data/weizmann/EhV/high_time_res/High/images/H1_T8_1/1_Ch6.ome.tif',\n",
    "    '/data/Experiment_data/weizmann/EhV/high_time_res/High/images/H1_T8_1/1_Ch7.ome.tif',\n",
    "    '/data/Experiment_data/weizmann/EhV/high_time_res/High/images/H1_T8_1/1_Ch11.ome.tif',\n",
    "]"
   ]
  },
  {
   "cell_type": "code",
   "execution_count": 5,
   "metadata": {},
   "outputs": [
    {
     "name": "stderr",
     "output_type": "stream",
     "text": [
      "TiffTag 266: 0 is not a valid FILLORDER\n",
      "TiffTag 266: 0 is not a valid FILLORDER\n",
      "TiffTag 266: 0 is not a valid FILLORDER\n",
      "TiffTag 266: 0 is not a valid FILLORDER\n",
      "TiffTag 266: 0 is not a valid FILLORDER\n",
      "TiffTag 266: 0 is not a valid FILLORDER\n"
     ]
    }
   ],
   "source": [
    "pixels = tifffile.imread(paths)\n",
    "pixels = img_as_float32(pixels)"
   ]
  },
  {
   "cell_type": "code",
   "execution_count": 6,
   "metadata": {},
   "outputs": [
    {
     "data": {
      "image/png": "[encoded data removed]",
      "text/plain": [
       "<Figure size 900x600 with 5 Axes>"
      ]
     },
     "metadata": {
      "needs_background": "light"
     },
     "output_type": "display_data"
    }
   ],
   "source": [
    "fig, axes = plt.subplots(1, len(pixels), dpi=150)\n",
    "for p, ax in zip(pixels, axes):\n",
    "    ax.imshow(p)\n",
    "    ax.set_axis_off()"
   ]
  },
  {
   "cell_type": "code",
   "execution_count": 25,
   "metadata": {},
   "outputs": [],
   "source": [
    "masked = numpy.empty_like(pixels)\n",
    "for i in range(len(pixels)):\n",
    "    x = pixels[i]\n",
    "    \n",
    "    x = sobel(x)\n",
    "    x = closing(x, selem=disk(4))\n",
    "    x = threshold_otsu(x) < x\n",
    "    x = remove_small_holes(x, area_threshold=300)\n",
    "    x = remove_small_objects(x, min_size=50)\n",
    "    x = label(x)\n",
    "    \n",
    "    masked[i] = x"
   ]
  },
  {
   "cell_type": "code",
   "execution_count": 26,
   "metadata": {},
   "outputs": [
    {
     "data": {
      "image/png": "[encoded data removed]",
      "text/plain": [
       "<Figure size 900x600 with 5 Axes>"
      ]
     },
     "metadata": {
      "needs_background": "light"
     },
     "output_type": "display_data"
    }
   ],
   "source": [
    "fig, axes = plt.subplots(1, len(pixels), dpi=150)\n",
    "for p, ax in zip(masked, axes):\n",
    "    ax.imshow(p)\n",
    "    ax.set_axis_off()"
   ]
  },
  {
   "cell_type": "code",
   "execution_count": null,
   "metadata": {},
   "outputs": [],
   "source": []
  }
 ],
 "metadata": {
  "kernelspec": {
   "display_name": "Python 3 (ipykernel)",
   "language": "python",
   "name": "python3"
  },
  "language_info": {
   "codemirror_mode": {
    "name": "ipython",
    "version": 3
   },
   "file_extension": ".py",
   "mimetype": "text/x-python",
   "name": "python",
   "nbconvert_exporter": "python",
   "pygments_lexer": "ipython3",
   "version": "3.8.10"
  }
 },
 "nbformat": 4,
 "nbformat_minor": 4
}
