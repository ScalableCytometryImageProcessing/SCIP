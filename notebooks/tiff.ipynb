{
 "cells": [
  {
   "cell_type": "code",
   "execution_count": 52,
   "metadata": {},
   "outputs": [],
   "source": [
    "import pandas\n",
    "from pathlib import Path\n",
    "import numpy\n",
    "import re\n",
    "import matplotlib.pyplot as plt"
   ]
  },
  {
   "cell_type": "code",
   "execution_count": 37,
   "metadata": {},
   "outputs": [],
   "source": [
    "channels = [1, 4, 6, 7, 11]\n",
    "data_dir = Path(\"/data/Experiment_data/weizmann/EhV/high_time_res/High/H1_T8_subset/\")"
   ]
  },
  {
   "cell_type": "code",
   "execution_count": 38,
   "metadata": {},
   "outputs": [],
   "source": [
    "channels_re = \"|\".join([str(c) for c in channels])\n",
    "regex = f\".*\\/(?P<id>[0-9]+)_Ch(?P<channel>({channels_re}))\\.ome\\.tif$\""
   ]
  },
  {
   "cell_type": "code",
   "execution_count": 39,
   "metadata": {},
   "outputs": [],
   "source": [
    "def match(p):\n",
    "    m = re.match(regex, str(p)).groupdict()\n",
    "    if m is not None:\n",
    "        return {**m, **dict(path=str(p))}\n",
    "    else:\n",
    "        return None\n",
    "    \n",
    "matches = list(filter(lambda r: r is not None, map(match, data_dir.glob(\"*.tif*\"))))\n",
    "df = pandas.DataFrame.from_dict(matches)"
   ]
  },
  {
   "cell_type": "code",
   "execution_count": 40,
   "metadata": {},
   "outputs": [],
   "source": [
    "df = df.pivot(index=\"id\", columns=\"channel\", values=\"path\")"
   ]
  },
  {
   "cell_type": "code",
   "execution_count": 42,
   "metadata": {},
   "outputs": [
    {
     "name": "stdout",
     "output_type": "stream",
     "text": [
      "/data/Experiment_data/weizmann/EhV/high_time_res/High/H1_T8_subset/1000_Ch1.ome.tif\n",
      "/data/Experiment_data/weizmann/EhV/high_time_res/High/H1_T8_subset/1000_Ch4.ome.tif\n",
      "/data/Experiment_data/weizmann/EhV/high_time_res/High/H1_T8_subset/1000_Ch6.ome.tif\n",
      "/data/Experiment_data/weizmann/EhV/high_time_res/High/H1_T8_subset/1000_Ch7.ome.tif\n",
      "/data/Experiment_data/weizmann/EhV/high_time_res/High/H1_T8_subset/1000_Ch11.ome.tif\n"
     ]
    }
   ],
   "source": [
    "for channel in channels:\n",
    "    print(df.iloc[0][str(channel)])"
   ]
  },
  {
   "cell_type": "code",
   "execution_count": 43,
   "metadata": {},
   "outputs": [],
   "source": [
    "import tifffile\n",
    "import logging"
   ]
  },
  {
   "cell_type": "code",
   "execution_count": 44,
   "metadata": {},
   "outputs": [],
   "source": [
    "logging.getLogger(\"tifffile\").setLevel(logging.ERROR)"
   ]
  },
  {
   "cell_type": "code",
   "execution_count": 46,
   "metadata": {},
   "outputs": [
    {
     "data": {
      "text/plain": [
       "channel\n",
       "1     /data/Experiment_data/weizmann/EhV/high_time_r...\n",
       "4     /data/Experiment_data/weizmann/EhV/high_time_r...\n",
       "6     /data/Experiment_data/weizmann/EhV/high_time_r...\n",
       "7     /data/Experiment_data/weizmann/EhV/high_time_r...\n",
       "11    /data/Experiment_data/weizmann/EhV/high_time_r...\n",
       "Name: 1000, dtype: object"
      ]
     },
     "execution_count": 46,
     "metadata": {},
     "output_type": "execute_result"
    }
   ],
   "source": [
    "df.iloc[0][[str(c) for c in channels]]"
   ]
  },
  {
   "cell_type": "code",
   "execution_count": 85,
   "metadata": {},
   "outputs": [
    {
     "name": "stdout",
     "output_type": "stream",
     "text": [
      "Generating '/home/maximl/miniconda3/envs/py3/lib/python3.8/site-packages/libtiff/tiff_h_4_1_0.py' from '/home/maximl/miniconda3/envs/py3/lib/../include/tiff.h'\n"
     ]
    }
   ],
   "source": [
    "from libtiff import TIFF"
   ]
  },
  {
   "cell_type": "code",
   "execution_count": 90,
   "metadata": {},
   "outputs": [
    {
     "data": {
      "text/plain": [
       "4310.170220588236"
      ]
     },
     "execution_count": 90,
     "metadata": {},
     "output_type": "execute_result"
    }
   ],
   "source": [
    "data = tifffile.imread(df.iloc[0][[str(c) for c in channels]].values.tolist())\n",
    "data[4].mean()"
   ]
  },
  {
   "cell_type": "code",
   "execution_count": 95,
   "metadata": {},
   "outputs": [
    {
     "data": {
      "text/plain": [
       "<matplotlib.image.AxesImage at 0x7f917158f7f0>"
      ]
     },
     "execution_count": 95,
     "metadata": {},
     "output_type": "execute_result"
    },
    {
     "data": {
      "image/png": "[encoded data removed]",
      "text/plain": [
       "<Figure size 432x288 with 1 Axes>"
      ]
     },
     "metadata": {
      "needs_background": "light"
     },
     "output_type": "display_data"
    }
   ],
   "source": [
    "plt.imshow(data[4])"
   ]
  },
  {
   "cell_type": "code",
   "execution_count": null,
   "metadata": {},
   "outputs": [],
   "source": []
  }
 ],
 "metadata": {
  "kernelspec": {
   "display_name": "Python 3",
   "language": "python",
   "name": "python3"
  },
  "language_info": {
   "codemirror_mode": {
    "name": "ipython",
    "version": 3
   },
   "file_extension": ".py",
   "mimetype": "text/x-python",
   "name": "python",
   "nbconvert_exporter": "python",
   "pygments_lexer": "ipython3",
   "version": "3.8.10"
  }
 },
 "nbformat": 4,
 "nbformat_minor": 4
}
