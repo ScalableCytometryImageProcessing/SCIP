{
 "cells": [
  {
   "cell_type": "code",
   "execution_count": 3,
   "metadata": {},
   "outputs": [],
   "source": [
    "import pandas\n",
    "from pathlib import Path\n",
    "import numpy\n",
    "import re"
   ]
  },
  {
   "cell_type": "code",
   "execution_count": 64,
   "metadata": {},
   "outputs": [],
   "source": [
    "channels = [1, 4, 6, 7, 11]\n",
    "data_dir = Path(\"/data/Experiment_data/weizmann/EhV/high_time_res/High/H1_T8/\")"
   ]
  },
  {
   "cell_type": "code",
   "execution_count": 87,
   "metadata": {},
   "outputs": [],
   "source": [
    "channels_re = \"|\".join([str(c) for c in channels])\n",
    "regex = f\".*\\/(?P<id>[0-9]+)_Ch(?P<channel>({channels_re}))\\.ome\\.tif$\""
   ]
  },
  {
   "cell_type": "code",
   "execution_count": 109,
   "metadata": {},
   "outputs": [],
   "source": [
    "def match(p):\n",
    "    m = re.match(regex, str(p)).groupdict()\n",
    "    if m is not None:\n",
    "        return {**m, **dict(path=p)}\n",
    "    else:\n",
    "        return None\n",
    "    \n",
    "matches = list(filter(lambda r: r is not None, map(match, data_dir.glob(\"*.tif\"))))\n",
    "df = pandas.DataFrame.from_dict(matches)"
   ]
  },
  {
   "cell_type": "code",
   "execution_count": 120,
   "metadata": {},
   "outputs": [],
   "source": [
    "df = df.pivot(index=\"id\", columns=\"channel\", values=\"path\")"
   ]
  },
  {
   "cell_type": "code",
   "execution_count": 125,
   "metadata": {},
   "outputs": [
    {
     "name": "stdout",
     "output_type": "stream",
     "text": [
      "/data/Experiment_data/weizmann/EhV/high_time_res/High/H1_T8/0_Ch1.ome.tif\n",
      "/data/Experiment_data/weizmann/EhV/high_time_res/High/H1_T8/0_Ch4.ome.tif\n",
      "/data/Experiment_data/weizmann/EhV/high_time_res/High/H1_T8/0_Ch6.ome.tif\n",
      "/data/Experiment_data/weizmann/EhV/high_time_res/High/H1_T8/0_Ch7.ome.tif\n",
      "/data/Experiment_data/weizmann/EhV/high_time_res/High/H1_T8/0_Ch11.ome.tif\n"
     ]
    }
   ],
   "source": [
    "for channel in channels:\n",
    "    print(df.loc[\"0\", str(channel)])"
   ]
  },
  {
   "cell_type": "code",
   "execution_count": null,
   "metadata": {},
   "outputs": [],
   "source": []
  }
 ],
 "metadata": {
  "kernelspec": {
   "display_name": "Python 3",
   "language": "python",
   "name": "python3"
  },
  "language_info": {
   "codemirror_mode": {
    "name": "ipython",
    "version": 3
   },
   "file_extension": ".py",
   "mimetype": "text/x-python",
   "name": "python",
   "nbconvert_exporter": "python",
   "pygments_lexer": "ipython3",
   "version": "3.8.10"
  }
 },
 "nbformat": 4,
 "nbformat_minor": 4
}
