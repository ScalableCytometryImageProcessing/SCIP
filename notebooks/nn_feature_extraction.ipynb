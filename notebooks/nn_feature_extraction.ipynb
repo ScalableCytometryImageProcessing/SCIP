{
 "cells": [
  {
   "cell_type": "code",
   "execution_count": 3,
   "id": "f4176046-859d-42b0-b4ce-488296cb707a",
   "metadata": {},
   "outputs": [],
   "source": [
    "from torch import nn\n",
    "import torch\n",
    "import numpy"
   ]
  },
  {
   "cell_type": "code",
   "execution_count": 4,
   "id": "e7949db4-99e8-40d4-839c-3b563a24fbf6",
   "metadata": {},
   "outputs": [],
   "source": [
    "data = []\n",
    "for i in range(10):\n",
    "    data.append(numpy.zeros(shape=(4,32,32)))"
   ]
  },
  {
   "cell_type": "code",
   "execution_count": 7,
   "id": "c0a1f797-82a3-4e43-8c24-3209055c2671",
   "metadata": {},
   "outputs": [
    {
     "data": {
      "text/plain": [
       "torch.Size([10, 4, 32, 32])"
      ]
     },
     "execution_count": 7,
     "metadata": {},
     "output_type": "execute_result"
    }
   ],
   "source": [
    "torch.as_tensor(data).shape"
   ]
  },
  {
   "cell_type": "code",
   "execution_count": null,
   "id": "b50a1a7e-6536-4f76-b744-e8d95526ce35",
   "metadata": {},
   "outputs": [],
   "source": [
    "class MyModel(nn.Module):\n",
    "    def __init__(self):\n",
    "        super(MyModel, self).__init__()\n",
    "        self.cl1 = nn.Linear(25, 60)\n",
    "        self.cl2 = nn.Linear(60, 16)\n",
    "        self.fc1 = nn.Linear(16, 120)\n",
    "        self.fc2 = nn.Linear(120, 84)\n",
    "        self.fc3 = nn.Linear(84, 10)\n",
    "        \n",
    "    def forward(self, x):\n",
    "        x = F.relu(self.cl1(x))\n",
    "        x = F.relu(self.cl2(x))\n",
    "        x = F.relu(self.fc1(x))\n",
    "        x = F.relu(self.fc2(x))\n",
    "        x = F.log_softmax(self.fc3(x), dim=1)\n",
    "        return x\n",
    "\n",
    "\n",
    "activation = {}\n",
    "def get_activation(name):\n",
    "    def hook(model, input, output):\n",
    "        activation[name] = output.detach()\n",
    "    return hook\n",
    "\n",
    "\n",
    "model = MyModel()\n",
    "model.fc2.register_forward_hook(get_activation('fc2'))\n",
    "x = torch.randn(1, 25)\n",
    "output = model(x)\n",
    "print(activation['fc2'])\n"
   ]
  }
 ],
 "metadata": {
  "kernelspec": {
   "display_name": "Python 3 (ipykernel)",
   "language": "python",
   "name": "python3"
  },
  "language_info": {
   "codemirror_mode": {
    "name": "ipython",
    "version": 3
   },
   "file_extension": ".py",
   "mimetype": "text/x-python",
   "name": "python",
   "nbconvert_exporter": "python",
   "pygments_lexer": "ipython3",
   "version": "3.9.5"
  }
 },
 "nbformat": 4,
 "nbformat_minor": 5
}
