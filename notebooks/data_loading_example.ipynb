{
 "cells": [
  {
   "cell_type": "code",
   "execution_count": 1,
   "id": "7f6674db-cc3f-4aea-a32f-23c3dee32bd7",
   "metadata": {},
   "outputs": [],
   "source": [
    "# dask\n",
    "import dask\n",
    "from dask.distributed import Client\n",
    "from dask.distributed import deploy\n",
    "from dask_jobqueue import PBSCluster\n",
    "\n",
    "# standard lib\n",
    "from pathlib import Path\n",
    "import io\n",
    "\n",
    "# image processing\n",
    "from PIL import Image\n",
    "\n",
    "# numerical libraries\n",
    "import numpy"
   ]
  },
  {
   "cell_type": "code",
   "execution_count": 2,
   "id": "961d4245-1d89-4121-893f-22a87e9d8cc6",
   "metadata": {},
   "outputs": [],
   "source": [
    "cluster = PBSCluster(\n",
    "    cores=24,\n",
    "    memory=\"10GB\",\n",
    "    walltime=None,\n",
    "    resource_spec=\"h_vmem=10G,mem_free=240G\",\n",
    "    processes=6,\n",
    "    project=\"SIP\",\n",
    "    job_extra=(\"-pe serial 24\", \"-j y\", \"-o ~/logs/dask_workers.out\")\n",
    ")"
   ]
  },
  {
   "cell_type": "code",
   "execution_count": 14,
   "id": "c2eb3178-8dbb-4b15-b05c-9202d27181a8",
   "metadata": {},
   "outputs": [
    {
     "name": "stdout",
     "output_type": "stream",
     "text": [
      "#!/usr/bin/env bash\n",
      "\n",
      "#$ -N dask-worker\n",
      "#$ -A SIP\n",
      "#$ -l h_vmem=10G,mem_free=240G\n",
      "#$ -pe serial 24\n",
      "#$ -j y\n",
      "#$ -o ~/logs/dask_workers.out\n",
      "\n",
      "/home/maximl/personal/miniconda3/envs/dask/bin/python -m distributed.cli.dask_worker tcp://172.24.4.77:33946 --nthreads 4 --nprocs 6 --memory-limit 1.55GiB --name dummy-name --nanny --death-timeout 60 --protocol tcp://\n",
      "\n"
     ]
    }
   ],
   "source": [
    "print(cluster.job_script())"
   ]
  },
  {
   "cell_type": "code",
   "execution_count": 15,
   "id": "946b29eb-2d3b-4764-94aa-01ccce20e19c",
   "metadata": {},
   "outputs": [],
   "source": [
    "cluster.scale(jobs=4)"
   ]
  },
  {
   "cell_type": "code",
   "execution_count": 16,
   "id": "f8aaad1d-2f2e-4427-8662-0855d56262bf",
   "metadata": {},
   "outputs": [],
   "source": [
    "client = Client(cluster)"
   ]
  },
  {
   "cell_type": "code",
   "execution_count": 17,
   "id": "ed233162-b0c0-4b62-9fea-f9e4298e6ff7",
   "metadata": {},
   "outputs": [],
   "source": [
    "@dask.delayed\n",
    "def load_multiframe_tiff(p):\n",
    "    im = Image.open(p)\n",
    "    arr = numpy.empty(shape=(im.n_frames, im.height, im.width), dtype=float)\n",
    "    for i in range(im.n_frames):\n",
    "        im.seek(i)\n",
    "        arr[i] = numpy.array(im)\n",
    "    return arr"
   ]
  },
  {
   "cell_type": "code",
   "execution_count": 20,
   "id": "af030875-b564-4e57-94a9-43205bea022e",
   "metadata": {},
   "outputs": [],
   "source": [
    "images = []\n",
    "for p in Path(\"/home/maximl/personal/data/vulcan_pbmc/\").glob(\"*.tiff\"):\n",
    "    images.append(load_multiframe_tiff(str(p)))"
   ]
  },
  {
   "cell_type": "code",
   "execution_count": 21,
   "id": "13e9d3a0-c10f-4611-8540-9dfa1f5cf09e",
   "metadata": {},
   "outputs": [
    {
     "name": "stdout",
     "output_type": "stream",
     "text": [
      "CPU times: user 8 µs, sys: 2 µs, total: 10 µs\n",
      "Wall time: 24.8 µs\n"
     ]
    }
   ],
   "source": [
    "%time\n",
    "pixels = dask.compute(*images)"
   ]
  },
  {
   "cell_type": "code",
   "execution_count": 12,
   "id": "52d43f97-87f5-44fe-ad4b-eac5f976550c",
   "metadata": {},
   "outputs": [],
   "source": [
    "client.close()\n",
    "cluster.close()"
   ]
  },
  {
   "cell_type": "code",
   "execution_count": null,
   "id": "14c09b57-2bbf-4a14-a788-9f85d76dc622",
   "metadata": {},
   "outputs": [],
   "source": []
  }
 ],
 "metadata": {
  "kernelspec": {
   "display_name": "Python 3 (ipykernel)",
   "language": "python",
   "name": "python3"
  },
  "language_info": {
   "codemirror_mode": {
    "name": "ipython",
    "version": 3
   },
   "file_extension": ".py",
   "mimetype": "text/x-python",
   "name": "python",
   "nbconvert_exporter": "python",
   "pygments_lexer": "ipython3",
   "version": "3.9.5"
  }
 },
 "nbformat": 4,
 "nbformat_minor": 5
}
