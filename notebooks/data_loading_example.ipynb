{
 "cells": [
  {
   "cell_type": "code",
   "execution_count": 1,
   "id": "7f6674db-cc3f-4aea-a32f-23c3dee32bd7",
   "metadata": {},
   "outputs": [],
   "source": [
    "# dask\n",
    "import dask\n",
    "from dask.distributed import Client\n",
    "from dask.distributed import deploy\n",
    "from dask_jobqueue import PBSCluster\n",
    "\n",
    "# standard lib\n",
    "from pathlib import Path\n",
    "import io\n",
    "\n",
    "# image processing\n",
    "from PIL import Image\n",
    "\n",
    "# numerical libraries\n",
    "import numpy"
   ]
  },
  {
   "cell_type": "code",
   "execution_count": 2,
   "id": "01e6a6bd-e2bb-4139-905b-a389e9ade920",
   "metadata": {},
   "outputs": [],
   "source": [
    "cluster = deploy.local.LocalCluster(n_workers=2)"
   ]
  },
  {
   "cell_type": "code",
   "execution_count": 3,
   "id": "f8aaad1d-2f2e-4427-8662-0855d56262bf",
   "metadata": {},
   "outputs": [],
   "source": [
    "client = Client(cluster)"
   ]
  },
  {
   "cell_type": "code",
   "execution_count": 4,
   "id": "ed233162-b0c0-4b62-9fea-f9e4298e6ff7",
   "metadata": {},
   "outputs": [],
   "source": [
    "@dask.delayed\n",
    "def load_multiframe_tiff(p):\n",
    "    im = Image.open(p)\n",
    "    arr = numpy.empty(shape=(im.n_frames, im.height, im.width), dtype=float)\n",
    "    for i in range(im.n_frames):\n",
    "        im.seek(i)\n",
    "        arr[i] = numpy.array(im)\n",
    "    return arr"
   ]
  },
  {
   "cell_type": "code",
   "execution_count": 6,
   "id": "af030875-b564-4e57-94a9-43205bea022e",
   "metadata": {},
   "outputs": [],
   "source": [
    "images = []\n",
    "for p in Path(\"/home/sanderth/debug_images\").glob(\"*.tiff\"):\n",
    "    images.append(load_multiframe_tiff(str(p)))"
   ]
  },
  {
   "cell_type": "code",
   "execution_count": null,
   "id": "0a7c15dd-cc59-44c0-8d59-a9ed6e3d3223",
   "metadata": {},
   "outputs": [],
   "source": [
    "from skimage import img_as_float, img_as_uint, filters, exposure, morphology, segmentation, measure\n",
    "from skimage.restoration import denoise_nl_means\n",
    "import numpy as np\n",
    "from PIL import Image"
   ]
  },
  {
   "cell_type": "code",
   "execution_count": null,
   "id": "adb10195-6e3b-4496-8fcd-248459ec5123",
   "metadata": {},
   "outputs": [],
   "source": [
    "def denoised_felzenszwalb_otsu_mask(im):\n",
    "\n",
    "    data = np.array(im)\n",
    "    mask = np.empty(data.shape, dtype=bool)\n",
    "    channels = data.shape[0]\n",
    "\n",
    "    for i in range(channels):\n",
    "            img = np.array(data[i])\n",
    "\n",
    "            # Non-local mean denoising\n",
    "            if i not in noisy_channels:\n",
    "                img = denoise_nl_means(np.array(img), multichannel=False, patch_size=nlm_psize,\n",
    "                                     patch_distance=nlm_pdist, fast_mode=True)\n",
    "\n",
    "\n",
    "            # Felzenszwalb segmentation\n",
    "            segment_fz = segmentation.felzenszwalb(img, sigma=fz_sigma, scale=fz_scale)\n",
    "\n",
    "            # Avoid threshold calculation on low signals\n",
    "            if len(np.unique(segment_fz)) <= 1:\n",
    "                mask[i] = segment_fz\n",
    "                continue\n",
    "\n",
    "            # Calculation of Otsu threshold\n",
    "            threshold = filters.threshold_otsu(segment_fz)\n",
    "\n",
    "            # Convertion to Boolean mask with Otsu threshold\n",
    "            mask_denoized = segment_fz > threshold\n",
    "\n",
    "            mask[i] = mask_denoized\n",
    "\n",
    "    return mask.tolist()"
   ]
  },
  {
   "cell_type": "code",
   "execution_count": null,
   "id": "f6d884bf-34e6-436a-be32-de16b24adbf5",
   "metadata": {},
   "outputs": [],
   "source": []
  },
  {
   "cell_type": "code",
   "execution_count": null,
   "id": "c04625f5-c340-47c1-b72d-efb72fc1edad",
   "metadata": {},
   "outputs": [],
   "source": []
  },
  {
   "cell_type": "code",
   "execution_count": 7,
   "id": "13e9d3a0-c10f-4611-8540-9dfa1f5cf09e",
   "metadata": {},
   "outputs": [
    {
     "name": "stdout",
     "output_type": "stream",
     "text": [
      "CPU times: user 3 µs, sys: 0 ns, total: 3 µs\n",
      "Wall time: 7.15 µs\n"
     ]
    }
   ],
   "source": [
    "%time\n",
    "pixels = dask.compute(*images)"
   ]
  },
  {
   "cell_type": "code",
   "execution_count": 12,
   "id": "52d43f97-87f5-44fe-ad4b-eac5f976550c",
   "metadata": {},
   "outputs": [],
   "source": [
    "client.close()\n",
    "cluster.close()"
   ]
  },
  {
   "cell_type": "code",
   "execution_count": null,
   "id": "14c09b57-2bbf-4a14-a788-9f85d76dc622",
   "metadata": {},
   "outputs": [],
   "source": []
  }
 ],
 "metadata": {
  "kernelspec": {
   "display_name": "Python 3 (ipykernel)",
   "language": "python",
   "name": "python3"
  },
  "language_info": {
   "codemirror_mode": {
    "name": "ipython",
    "version": 3
   },
   "file_extension": ".py",
   "mimetype": "text/x-python",
   "name": "python",
   "nbconvert_exporter": "python",
   "pygments_lexer": "ipython3",
   "version": "3.9.5"
  }
 },
 "nbformat": 4,
 "nbformat_minor": 5
}
