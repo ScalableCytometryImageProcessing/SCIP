{
 "cells": [
  {
   "cell_type": "code",
   "execution_count": 1,
   "metadata": {},
   "outputs": [],
   "source": [
    "import tifffile\n",
    "import numpy\n",
    "import matplotlib.pyplot as plt\n",
    "from pathlib import Path\n",
    "from tqdm import tqdm"
   ]
  },
  {
   "cell_type": "code",
   "execution_count": 2,
   "metadata": {},
   "outputs": [
    {
     "data": {
      "text/plain": [
       "'2021.8.30'"
      ]
     },
     "execution_count": 2,
     "metadata": {},
     "output_type": "execute_result"
    }
   ],
   "source": [
    "tifffile.__version__"
   ]
  },
  {
   "cell_type": "code",
   "execution_count": 3,
   "metadata": {},
   "outputs": [],
   "source": [
    "data_dir = \"/data/Experiment_data/weizmann/EhV/high_time_res/High/H1_T8_subset/\""
   ]
  },
  {
   "cell_type": "code",
   "execution_count": 4,
   "metadata": {},
   "outputs": [],
   "source": [
    "ch1 = sorted(list(Path(data_dir).glob(\"*Ch1.*.tif*\")))\n",
    "ch4 = sorted(list(Path(data_dir).glob(\"*Ch4.*.tif*\")))\n",
    "ch6 = sorted(list(Path(data_dir).glob(\"*Ch6.*.tif*\")))\n",
    "ch7 = sorted(list(Path(data_dir).glob(\"*Ch7.*.tif*\")))\n",
    "ch11 = sorted(list(Path(data_dir).glob(\"*Ch11.*.tif*\")))"
   ]
  },
  {
   "cell_type": "code",
   "execution_count": 5,
   "metadata": {
    "collapsed": true,
    "jupyter": {
     "outputs_hidden": true
    },
    "tags": []
   },
   "outputs": [
    {
     "name": "stderr",
     "output_type": "stream",
     "text": [
      "TiffTag 266: 0 is not a valid FILLORDER\n",
      "TiffTag 266: 0 is not a valid FILLORDER\n",
      "TiffTag 266: 0 is not a valid FILLORDER\n",
      "TiffTag 266: 0 is not a valid FILLORDER\n",
      "TiffTag 266: 0 is not a valid FILLORDER\n",
      "TiffTag 266: 0 is not a valid FILLORDER\n",
      "TiffTag 266: 0 is not a valid FILLORDER\n",
      "TiffTag 266: 0 is not a valid FILLORDER\n",
      "TiffTag 266: 0 is not a valid FILLORDER\n",
      "TiffTag 266: 0 is not a valid FILLORDER\n",
      "TiffTag 266: 0 is not a valid FILLORDER\n",
      "TiffTag 266: 0 is not a valid FILLORDER\n",
      "TiffTag 266: 0 is not a valid FILLORDER\n",
      "TiffTag 266: 0 is not a valid FILLORDER\n",
      "TiffTag 266: 0 is not a valid FILLORDER\n",
      "TiffTag 266: 0 is not a valid FILLORDER\n",
      "TiffTag 266: 0 is not a valid FILLORDER\n",
      "TiffTag 266: 0 is not a valid FILLORDER\n",
      "TiffTag 266: 0 is not a valid FILLORDER\n",
      "TiffTag 266: 0 is not a valid FILLORDER\n",
      "TiffTag 266: 0 is not a valid FILLORDER\n",
      "TiffTag 266: 0 is not a valid FILLORDER\n",
      "TiffTag 266: 0 is not a valid FILLORDER\n",
      "TiffTag 266: 0 is not a valid FILLORDER\n",
      "TiffTag 266: 0 is not a valid FILLORDER\n",
      "TiffTag 266: 0 is not a valid FILLORDER\n",
      "TiffTag 266: 0 is not a valid FILLORDER\n",
      "TiffTag 266: 0 is not a valid FILLORDER\n",
      "TiffTag 266: 0 is not a valid FILLORDER\n",
      "TiffTag 266: 0 is not a valid FILLORDER\n",
      "TiffTag 266: 0 is not a valid FILLORDER\n",
      "TiffTag 266: 0 is not a valid FILLORDER\n",
      "TiffTag 266: 0 is not a valid FILLORDER\n",
      "TiffTag 266: 0 is not a valid FILLORDER\n",
      "TiffTag 266: 0 is not a valid FILLORDER\n",
      "TiffTag 266: 0 is not a valid FILLORDER\n",
      "TiffTag 266: 0 is not a valid FILLORDER\n",
      "TiffTag 266: 0 is not a valid FILLORDER\n",
      "TiffTag 266: 0 is not a valid FILLORDER\n",
      "TiffTag 266: 0 is not a valid FILLORDER\n",
      "TiffTag 266: 0 is not a valid FILLORDER\n",
      "TiffTag 266: 0 is not a valid FILLORDER\n",
      "TiffTag 266: 0 is not a valid FILLORDER\n",
      "TiffTag 266: 0 is not a valid FILLORDER\n",
      "TiffTag 266: 0 is not a valid FILLORDER\n",
      "TiffTag 266: 0 is not a valid FILLORDER\n",
      "TiffTag 266: 0 is not a valid FILLORDER\n",
      "TiffTag 266: 0 is not a valid FILLORDER\n",
      "TiffTag 266: 0 is not a valid FILLORDER\n",
      "TiffTag 266: 0 is not a valid FILLORDER\n",
      "TiffTag 266: 0 is not a valid FILLORDER\n",
      "TiffTag 266: 0 is not a valid FILLORDER\n",
      "TiffTag 266: 0 is not a valid FILLORDER\n",
      "TiffTag 266: 0 is not a valid FILLORDER\n",
      "TiffTag 266: 0 is not a valid FILLORDER\n",
      "TiffTag 266: 0 is not a valid FILLORDER\n",
      "TiffTag 266: 0 is not a valid FILLORDER\n",
      "TiffTag 266: 0 is not a valid FILLORDER\n",
      "TiffTag 266: 0 is not a valid FILLORDER\n",
      "TiffTag 266: 0 is not a valid FILLORDER\n",
      "TiffTag 266: 0 is not a valid FILLORDER\n",
      "TiffTag 266: 0 is not a valid FILLORDER\n",
      "TiffTag 266: 0 is not a valid FILLORDER\n",
      "TiffTag 266: 0 is not a valid FILLORDER\n",
      "TiffTag 266: 0 is not a valid FILLORDER\n",
      "TiffTag 266: 0 is not a valid FILLORDER\n",
      "TiffTag 266: 0 is not a valid FILLORDER\n",
      "TiffTag 266: 0 is not a valid FILLORDER\n",
      "TiffTag 266: 0 is not a valid FILLORDER\n",
      "TiffTag 266: 0 is not a valid FILLORDER\n",
      "TiffTag 266: 0 is not a valid FILLORDER\n",
      "TiffTag 266: 0 is not a valid FILLORDER\n",
      "TiffTag 266: 0 is not a valid FILLORDER\n",
      "TiffTag 266: 0 is not a valid FILLORDER\n",
      "TiffTag 266: 0 is not a valid FILLORDER\n",
      "TiffTag 266: 0 is not a valid FILLORDER\n",
      "TiffTag 266: 0 is not a valid FILLORDER\n",
      "TiffTag 266: 0 is not a valid FILLORDER\n",
      "TiffTag 266: 0 is not a valid FILLORDER\n",
      "TiffTag 266: 0 is not a valid FILLORDER\n",
      "TiffTag 266: 0 is not a valid FILLORDER\n",
      "TiffTag 266: 0 is not a valid FILLORDER\n",
      "TiffTag 266: 0 is not a valid FILLORDER\n",
      "TiffTag 266: 0 is not a valid FILLORDER\n",
      "TiffTag 266: 0 is not a valid FILLORDER\n",
      "TiffTag 266: 0 is not a valid FILLORDER\n",
      "TiffTag 266: 0 is not a valid FILLORDER\n",
      "TiffTag 266: 0 is not a valid FILLORDER\n",
      "TiffTag 266: 0 is not a valid FILLORDER\n",
      "TiffTag 266: 0 is not a valid FILLORDER\n",
      "TiffTag 266: 0 is not a valid FILLORDER\n",
      "TiffTag 266: 0 is not a valid FILLORDER\n",
      "TiffTag 266: 0 is not a valid FILLORDER\n",
      "TiffTag 266: 0 is not a valid FILLORDER\n",
      "TiffTag 266: 0 is not a valid FILLORDER\n",
      "TiffTag 266: 0 is not a valid FILLORDER\n",
      "TiffTag 266: 0 is not a valid FILLORDER\n",
      "TiffTag 266: 0 is not a valid FILLORDER\n",
      "TiffTag 266: 0 is not a valid FILLORDER\n",
      "TiffTag 266: 0 is not a valid FILLORDER\n",
      "TiffTag 266: 0 is not a valid FILLORDER\n",
      "TiffTag 266: 0 is not a valid FILLORDER\n",
      "TiffTag 266: 0 is not a valid FILLORDER\n",
      "TiffTag 266: 0 is not a valid FILLORDER\n",
      "TiffTag 266: 0 is not a valid FILLORDER\n",
      "TiffTag 266: 0 is not a valid FILLORDER\n",
      "TiffTag 266: 0 is not a valid FILLORDER\n",
      "TiffTag 266: 0 is not a valid FILLORDER\n",
      "TiffTag 266: 0 is not a valid FILLORDER\n",
      "TiffTag 266: 0 is not a valid FILLORDER\n",
      "TiffTag 266: 0 is not a valid FILLORDER\n",
      "TiffTag 266: 0 is not a valid FILLORDER\n",
      "TiffTag 266: 0 is not a valid FILLORDER\n",
      "TiffTag 266: 0 is not a valid FILLORDER\n",
      "TiffTag 266: 0 is not a valid FILLORDER\n",
      "TiffTag 266: 0 is not a valid FILLORDER\n",
      "TiffTag 266: 0 is not a valid FILLORDER\n",
      "TiffTag 266: 0 is not a valid FILLORDER\n",
      "TiffTag 266: 0 is not a valid FILLORDER\n",
      "TiffTag 266: 0 is not a valid FILLORDER\n",
      "TiffTag 266: 0 is not a valid FILLORDER\n",
      "TiffTag 266: 0 is not a valid FILLORDER\n",
      "TiffTag 266: 0 is not a valid FILLORDER\n",
      "TiffTag 266: 0 is not a valid FILLORDER\n",
      "TiffTag 266: 0 is not a valid FILLORDER\n",
      "TiffTag 266: 0 is not a valid FILLORDER\n",
      "TiffTag 266: 0 is not a valid FILLORDER\n",
      "TiffTag 266: 0 is not a valid FILLORDER\n",
      "TiffTag 266: 0 is not a valid FILLORDER\n",
      "TiffTag 266: 0 is not a valid FILLORDER\n",
      "TiffTag 266: 0 is not a valid FILLORDER\n",
      "TiffTag 266: 0 is not a valid FILLORDER\n",
      "TiffTag 266: 0 is not a valid FILLORDER\n",
      "TiffTag 266: 0 is not a valid FILLORDER\n",
      "TiffTag 266: 0 is not a valid FILLORDER\n",
      "TiffTag 266: 0 is not a valid FILLORDER\n",
      "TiffTag 266: 0 is not a valid FILLORDER\n",
      "TiffTag 266: 0 is not a valid FILLORDER\n",
      "TiffTag 266: 0 is not a valid FILLORDER\n",
      "TiffTag 266: 0 is not a valid FILLORDER\n",
      "TiffTag 266: 0 is not a valid FILLORDER\n",
      "TiffTag 266: 0 is not a valid FILLORDER\n",
      "TiffTag 266: 0 is not a valid FILLORDER\n",
      "TiffTag 266: 0 is not a valid FILLORDER\n",
      "TiffTag 266: 0 is not a valid FILLORDER\n",
      "TiffTag 266: 0 is not a valid FILLORDER\n",
      "TiffTag 266: 0 is not a valid FILLORDER\n",
      "TiffTag 266: 0 is not a valid FILLORDER\n",
      "TiffTag 266: 0 is not a valid FILLORDER\n",
      "TiffTag 266: 0 is not a valid FILLORDER\n",
      "TiffTag 266: 0 is not a valid FILLORDER\n",
      "TiffTag 266: 0 is not a valid FILLORDER\n",
      "TiffTag 266: 0 is not a valid FILLORDER\n",
      "TiffTag 266: 0 is not a valid FILLORDER\n",
      "TiffTag 266: 0 is not a valid FILLORDER\n",
      "TiffTag 266: 0 is not a valid FILLORDER\n",
      "TiffTag 266: 0 is not a valid FILLORDER\n",
      "TiffTag 266: 0 is not a valid FILLORDER\n",
      "TiffTag 266: 0 is not a valid FILLORDER\n",
      "TiffTag 266: 0 is not a valid FILLORDER\n",
      "TiffTag 266: 0 is not a valid FILLORDER\n",
      "TiffTag 266: 0 is not a valid FILLORDER\n",
      "TiffTag 266: 0 is not a valid FILLORDER\n",
      "TiffTag 266: 0 is not a valid FILLORDER\n",
      "TiffTag 266: 0 is not a valid FILLORDER\n",
      "TiffTag 266: 0 is not a valid FILLORDER\n",
      "TiffTag 266: 0 is not a valid FILLORDER\n",
      "TiffTag 266: 0 is not a valid FILLORDER\n",
      "TiffTag 266: 0 is not a valid FILLORDER\n",
      "TiffTag 266: 0 is not a valid FILLORDER\n",
      "TiffTag 266: 0 is not a valid FILLORDER\n",
      "TiffTag 266: 0 is not a valid FILLORDER\n",
      "TiffTag 266: 0 is not a valid FILLORDER\n",
      "TiffTag 266: 0 is not a valid FILLORDER\n",
      "TiffTag 266: 0 is not a valid FILLORDER\n",
      "TiffTag 266: 0 is not a valid FILLORDER\n",
      "TiffTag 266: 0 is not a valid FILLORDER\n",
      "TiffTag 266: 0 is not a valid FILLORDER\n",
      "TiffTag 266: 0 is not a valid FILLORDER\n",
      "TiffTag 266: 0 is not a valid FILLORDER\n",
      "TiffTag 266: 0 is not a valid FILLORDER\n",
      "TiffTag 266: 0 is not a valid FILLORDER\n",
      "TiffTag 266: 0 is not a valid FILLORDER\n",
      "TiffTag 266: 0 is not a valid FILLORDER\n",
      "TiffTag 266: 0 is not a valid FILLORDER\n",
      "TiffTag 266: 0 is not a valid FILLORDER\n",
      "TiffTag 266: 0 is not a valid FILLORDER\n",
      "TiffTag 266: 0 is not a valid FILLORDER\n",
      "TiffTag 266: 0 is not a valid FILLORDER\n",
      "TiffTag 266: 0 is not a valid FILLORDER\n",
      "TiffTag 266: 0 is not a valid FILLORDER\n",
      "TiffTag 266: 0 is not a valid FILLORDER\n",
      "TiffTag 266: 0 is not a valid FILLORDER\n",
      "TiffTag 266: 0 is not a valid FILLORDER\n",
      "TiffTag 266: 0 is not a valid FILLORDER\n",
      "TiffTag 266: 0 is not a valid FILLORDER\n",
      "TiffTag 266: 0 is not a valid FILLORDER\n",
      "TiffTag 266: 0 is not a valid FILLORDER\n",
      "TiffTag 266: 0 is not a valid FILLORDER\n",
      "TiffTag 266: 0 is not a valid FILLORDER\n",
      "TiffTag 266: 0 is not a valid FILLORDER\n",
      "TiffTag 266: 0 is not a valid FILLORDER\n",
      "TiffTag 266: 0 is not a valid FILLORDER\n",
      "TiffTag 266: 0 is not a valid FILLORDER\n",
      "TiffTag 266: 0 is not a valid FILLORDER\n",
      "TiffTag 266: 0 is not a valid FILLORDER\n",
      "TiffTag 266: 0 is not a valid FILLORDER\n",
      "TiffTag 266: 0 is not a valid FILLORDER\n",
      "TiffTag 266: 0 is not a valid FILLORDER\n",
      "TiffTag 266: 0 is not a valid FILLORDER\n",
      "TiffTag 266: 0 is not a valid FILLORDER\n",
      "TiffTag 266: 0 is not a valid FILLORDER\n",
      "TiffTag 266: 0 is not a valid FILLORDER\n",
      "TiffTag 266: 0 is not a valid FILLORDER\n",
      "TiffTag 266: 0 is not a valid FILLORDER\n",
      "TiffTag 266: 0 is not a valid FILLORDER\n",
      "TiffTag 266: 0 is not a valid FILLORDER\n",
      "TiffTag 266: 0 is not a valid FILLORDER\n",
      "TiffTag 266: 0 is not a valid FILLORDER\n",
      "TiffTag 266: 0 is not a valid FILLORDER\n",
      "TiffTag 266: 0 is not a valid FILLORDER\n",
      "TiffTag 266: 0 is not a valid FILLORDER\n",
      "TiffTag 266: 0 is not a valid FILLORDER\n",
      "TiffTag 266: 0 is not a valid FILLORDER\n",
      "TiffTag 266: 0 is not a valid FILLORDER\n",
      "TiffTag 266: 0 is not a valid FILLORDER\n",
      "TiffTag 266: 0 is not a valid FILLORDER\n",
      "TiffTag 266: 0 is not a valid FILLORDER\n",
      "TiffTag 266: 0 is not a valid FILLORDER\n",
      "TiffTag 266: 0 is not a valid FILLORDER\n",
      "TiffTag 266: 0 is not a valid FILLORDER\n",
      "TiffTag 266: 0 is not a valid FILLORDER\n",
      "TiffTag 266: 0 is not a valid FILLORDER\n",
      "TiffTag 266: 0 is not a valid FILLORDER\n",
      "TiffTag 266: 0 is not a valid FILLORDER\n",
      "TiffTag 266: 0 is not a valid FILLORDER\n",
      "TiffTag 266: 0 is not a valid FILLORDER\n",
      "TiffTag 266: 0 is not a valid FILLORDER\n",
      "TiffTag 266: 0 is not a valid FILLORDER\n",
      "TiffTag 266: 0 is not a valid FILLORDER\n",
      "TiffTag 266: 0 is not a valid FILLORDER\n",
      "TiffTag 266: 0 is not a valid FILLORDER\n",
      "TiffTag 266: 0 is not a valid FILLORDER\n",
      "TiffTag 266: 0 is not a valid FILLORDER\n",
      "TiffTag 266: 0 is not a valid FILLORDER\n",
      "TiffTag 266: 0 is not a valid FILLORDER\n",
      "TiffTag 266: 0 is not a valid FILLORDER\n",
      "TiffTag 266: 0 is not a valid FILLORDER\n",
      "TiffTag 266: 0 is not a valid FILLORDER\n",
      "TiffTag 266: 0 is not a valid FILLORDER\n",
      "TiffTag 266: 0 is not a valid FILLORDER\n",
      "TiffTag 266: 0 is not a valid FILLORDER\n",
      "TiffTag 266: 0 is not a valid FILLORDER\n",
      "TiffTag 266: 0 is not a valid FILLORDER\n",
      "TiffTag 266: 0 is not a valid FILLORDER\n",
      "TiffTag 266: 0 is not a valid FILLORDER\n",
      "TiffTag 266: 0 is not a valid FILLORDER\n",
      "TiffTag 266: 0 is not a valid FILLORDER\n",
      "TiffTag 266: 0 is not a valid FILLORDER\n",
      "TiffTag 266: 0 is not a valid FILLORDER\n",
      "TiffTag 266: 0 is not a valid FILLORDER\n",
      "TiffTag 266: 0 is not a valid FILLORDER\n",
      "TiffTag 266: 0 is not a valid FILLORDER\n",
      "TiffTag 266: 0 is not a valid FILLORDER\n",
      "TiffTag 266: 0 is not a valid FILLORDER\n",
      "TiffTag 266: 0 is not a valid FILLORDER\n",
      "TiffTag 266: 0 is not a valid FILLORDER\n",
      "TiffTag 266: 0 is not a valid FILLORDER\n",
      "TiffTag 266: 0 is not a valid FILLORDER\n",
      "TiffTag 266: 0 is not a valid FILLORDER\n",
      "TiffTag 266: 0 is not a valid FILLORDER\n",
      "TiffTag 266: 0 is not a valid FILLORDER\n",
      "TiffTag 266: 0 is not a valid FILLORDER\n",
      "TiffTag 266: 0 is not a valid FILLORDER\n",
      "TiffTag 266: 0 is not a valid FILLORDER\n",
      "TiffTag 266: 0 is not a valid FILLORDER\n",
      "TiffTag 266: 0 is not a valid FILLORDER\n",
      "TiffTag 266: 0 is not a valid FILLORDER\n",
      "TiffTag 266: 0 is not a valid FILLORDER\n",
      "TiffTag 266: 0 is not a valid FILLORDER\n",
      "TiffTag 266: 0 is not a valid FILLORDER\n",
      "TiffTag 266: 0 is not a valid FILLORDER\n",
      "TiffTag 266: 0 is not a valid FILLORDER\n",
      "TiffTag 266: 0 is not a valid FILLORDER\n",
      "TiffTag 266: 0 is not a valid FILLORDER\n",
      "TiffTag 266: 0 is not a valid FILLORDER\n",
      "TiffTag 266: 0 is not a valid FILLORDER\n",
      "TiffTag 266: 0 is not a valid FILLORDER\n",
      "TiffTag 266: 0 is not a valid FILLORDER\n",
      "TiffTag 266: 0 is not a valid FILLORDER\n",
      "TiffTag 266: 0 is not a valid FILLORDER\n",
      "TiffTag 266: 0 is not a valid FILLORDER\n",
      "TiffTag 266: 0 is not a valid FILLORDER\n",
      "TiffTag 266: 0 is not a valid FILLORDER\n",
      "TiffTag 266: 0 is not a valid FILLORDER\n",
      "TiffTag 266: 0 is not a valid FILLORDER\n",
      "TiffTag 266: 0 is not a valid FILLORDER\n",
      "TiffTag 266: 0 is not a valid FILLORDER\n",
      "TiffTag 266: 0 is not a valid FILLORDER\n",
      "TiffTag 266: 0 is not a valid FILLORDER\n",
      "TiffTag 266: 0 is not a valid FILLORDER\n",
      "TiffTag 266: 0 is not a valid FILLORDER\n",
      "TiffTag 266: 0 is not a valid FILLORDER\n",
      "TiffTag 266: 0 is not a valid FILLORDER\n",
      "TiffTag 266: 0 is not a valid FILLORDER\n",
      "TiffTag 266: 0 is not a valid FILLORDER\n",
      "TiffTag 266: 0 is not a valid FILLORDER\n",
      "TiffTag 266: 0 is not a valid FILLORDER\n",
      "TiffTag 266: 0 is not a valid FILLORDER\n",
      "TiffTag 266: 0 is not a valid FILLORDER\n",
      "TiffTag 266: 0 is not a valid FILLORDER\n",
      "TiffTag 266: 0 is not a valid FILLORDER\n",
      "TiffTag 266: 0 is not a valid FILLORDER\n",
      "TiffTag 266: 0 is not a valid FILLORDER\n",
      "TiffTag 266: 0 is not a valid FILLORDER\n",
      "TiffTag 266: 0 is not a valid FILLORDER\n",
      "TiffTag 266: 0 is not a valid FILLORDER\n",
      "TiffTag 266: 0 is not a valid FILLORDER\n",
      "TiffTag 266: 0 is not a valid FILLORDER\n",
      "TiffTag 266: 0 is not a valid FILLORDER\n",
      "TiffTag 266: 0 is not a valid FILLORDER\n",
      "TiffTag 266: 0 is not a valid FILLORDER\n",
      "TiffTag 266: 0 is not a valid FILLORDER\n",
      "TiffTag 266: 0 is not a valid FILLORDER\n",
      "TiffTag 266: 0 is not a valid FILLORDER\n",
      "TiffTag 266: 0 is not a valid FILLORDER\n",
      "TiffTag 266: 0 is not a valid FILLORDER\n",
      "TiffTag 266: 0 is not a valid FILLORDER\n",
      "TiffTag 266: 0 is not a valid FILLORDER\n",
      "TiffTag 266: 0 is not a valid FILLORDER\n",
      "TiffTag 266: 0 is not a valid FILLORDER\n",
      "TiffTag 266: 0 is not a valid FILLORDER\n",
      "TiffTag 266: 0 is not a valid FILLORDER\n",
      "TiffTag 266: 0 is not a valid FILLORDER\n",
      "TiffTag 266: 0 is not a valid FILLORDER\n",
      "TiffTag 266: 0 is not a valid FILLORDER\n",
      "TiffTag 266: 0 is not a valid FILLORDER\n",
      "TiffTag 266: 0 is not a valid FILLORDER\n",
      "TiffTag 266: 0 is not a valid FILLORDER\n",
      "TiffTag 266: 0 is not a valid FILLORDER\n",
      "TiffTag 266: 0 is not a valid FILLORDER\n",
      "TiffTag 266: 0 is not a valid FILLORDER\n",
      "TiffTag 266: 0 is not a valid FILLORDER\n",
      "TiffTag 266: 0 is not a valid FILLORDER\n",
      "TiffTag 266: 0 is not a valid FILLORDER\n",
      "TiffTag 266: 0 is not a valid FILLORDER\n",
      "TiffTag 266: 0 is not a valid FILLORDER\n",
      "TiffTag 266: 0 is not a valid FILLORDER\n",
      "TiffTag 266: 0 is not a valid FILLORDER\n",
      "TiffTag 266: 0 is not a valid FILLORDER\n",
      "TiffTag 266: 0 is not a valid FILLORDER\n",
      "TiffTag 266: 0 is not a valid FILLORDER\n",
      "TiffTag 266: 0 is not a valid FILLORDER\n",
      "TiffTag 266: 0 is not a valid FILLORDER\n",
      "TiffTag 266: 0 is not a valid FILLORDER\n",
      "TiffTag 266: 0 is not a valid FILLORDER\n",
      "TiffTag 266: 0 is not a valid FILLORDER\n",
      "TiffTag 266: 0 is not a valid FILLORDER\n",
      "TiffTag 266: 0 is not a valid FILLORDER\n",
      "TiffTag 266: 0 is not a valid FILLORDER\n",
      "TiffTag 266: 0 is not a valid FILLORDER\n",
      "TiffTag 266: 0 is not a valid FILLORDER\n",
      "TiffTag 266: 0 is not a valid FILLORDER\n",
      "TiffTag 266: 0 is not a valid FILLORDER\n",
      "TiffTag 266: 0 is not a valid FILLORDER\n",
      "TiffTag 266: 0 is not a valid FILLORDER\n",
      "TiffTag 266: 0 is not a valid FILLORDER\n",
      "TiffTag 266: 0 is not a valid FILLORDER\n",
      "TiffTag 266: 0 is not a valid FILLORDER\n",
      "TiffTag 266: 0 is not a valid FILLORDER\n",
      "TiffTag 266: 0 is not a valid FILLORDER\n",
      "TiffTag 266: 0 is not a valid FILLORDER\n",
      "TiffTag 266: 0 is not a valid FILLORDER\n",
      "TiffTag 266: 0 is not a valid FILLORDER\n",
      "TiffTag 266: 0 is not a valid FILLORDER\n",
      "TiffTag 266: 0 is not a valid FILLORDER\n",
      "TiffTag 266: 0 is not a valid FILLORDER\n",
      "TiffTag 266: 0 is not a valid FILLORDER\n",
      "TiffTag 266: 0 is not a valid FILLORDER\n",
      "TiffTag 266: 0 is not a valid FILLORDER\n",
      "TiffTag 266: 0 is not a valid FILLORDER\n",
      "TiffTag 266: 0 is not a valid FILLORDER\n",
      "TiffTag 266: 0 is not a valid FILLORDER\n",
      "TiffTag 266: 0 is not a valid FILLORDER\n",
      "TiffTag 266: 0 is not a valid FILLORDER\n",
      "TiffTag 266: 0 is not a valid FILLORDER\n",
      "TiffTag 266: 0 is not a valid FILLORDER\n",
      "TiffTag 266: 0 is not a valid FILLORDER\n",
      "TiffTag 266: 0 is not a valid FILLORDER\n",
      "TiffTag 266: 0 is not a valid FILLORDER\n",
      "TiffTag 266: 0 is not a valid FILLORDER\n",
      "TiffTag 266: 0 is not a valid FILLORDER\n",
      "TiffTag 266: 0 is not a valid FILLORDER\n",
      "TiffTag 266: 0 is not a valid FILLORDER\n",
      "TiffTag 266: 0 is not a valid FILLORDER\n",
      "TiffTag 266: 0 is not a valid FILLORDER\n",
      "TiffTag 266: 0 is not a valid FILLORDER\n",
      "TiffTag 266: 0 is not a valid FILLORDER\n",
      "TiffTag 266: 0 is not a valid FILLORDER\n",
      "TiffTag 266: 0 is not a valid FILLORDER\n",
      "TiffTag 266: 0 is not a valid FILLORDER\n",
      "TiffTag 266: 0 is not a valid FILLORDER\n",
      "TiffTag 266: 0 is not a valid FILLORDER\n",
      "TiffTag 266: 0 is not a valid FILLORDER\n",
      "TiffTag 266: 0 is not a valid FILLORDER\n",
      "TiffTag 266: 0 is not a valid FILLORDER\n",
      "TiffTag 266: 0 is not a valid FILLORDER\n",
      "TiffTag 266: 0 is not a valid FILLORDER\n",
      "TiffTag 266: 0 is not a valid FILLORDER\n",
      "TiffTag 266: 0 is not a valid FILLORDER\n",
      "TiffTag 266: 0 is not a valid FILLORDER\n",
      "TiffTag 266: 0 is not a valid FILLORDER\n",
      "TiffTag 266: 0 is not a valid FILLORDER\n",
      "TiffTag 266: 0 is not a valid FILLORDER\n",
      "TiffTag 266: 0 is not a valid FILLORDER\n",
      "TiffTag 266: 0 is not a valid FILLORDER\n",
      "TiffTag 266: 0 is not a valid FILLORDER\n",
      "TiffTag 266: 0 is not a valid FILLORDER\n",
      "TiffTag 266: 0 is not a valid FILLORDER\n",
      "TiffTag 266: 0 is not a valid FILLORDER\n",
      "TiffTag 266: 0 is not a valid FILLORDER\n",
      "TiffTag 266: 0 is not a valid FILLORDER\n",
      "TiffTag 266: 0 is not a valid FILLORDER\n",
      "TiffTag 266: 0 is not a valid FILLORDER\n",
      "TiffTag 266: 0 is not a valid FILLORDER\n",
      "TiffTag 266: 0 is not a valid FILLORDER\n",
      "TiffTag 266: 0 is not a valid FILLORDER\n",
      "TiffTag 266: 0 is not a valid FILLORDER\n",
      "TiffTag 266: 0 is not a valid FILLORDER\n",
      "TiffTag 266: 0 is not a valid FILLORDER\n",
      "TiffTag 266: 0 is not a valid FILLORDER\n",
      "TiffTag 266: 0 is not a valid FILLORDER\n",
      "TiffTag 266: 0 is not a valid FILLORDER\n",
      "TiffTag 266: 0 is not a valid FILLORDER\n",
      "TiffTag 266: 0 is not a valid FILLORDER\n",
      "TiffTag 266: 0 is not a valid FILLORDER\n",
      "TiffTag 266: 0 is not a valid FILLORDER\n",
      "TiffTag 266: 0 is not a valid FILLORDER\n",
      "TiffTag 266: 0 is not a valid FILLORDER\n",
      "TiffTag 266: 0 is not a valid FILLORDER\n",
      "TiffTag 266: 0 is not a valid FILLORDER\n",
      "TiffTag 266: 0 is not a valid FILLORDER\n",
      "TiffTag 266: 0 is not a valid FILLORDER\n",
      "TiffTag 266: 0 is not a valid FILLORDER\n",
      "TiffTag 266: 0 is not a valid FILLORDER\n",
      "TiffTag 266: 0 is not a valid FILLORDER\n",
      "TiffTag 266: 0 is not a valid FILLORDER\n",
      "TiffTag 266: 0 is not a valid FILLORDER\n",
      "TiffTag 266: 0 is not a valid FILLORDER\n",
      "TiffTag 266: 0 is not a valid FILLORDER\n",
      "TiffTag 266: 0 is not a valid FILLORDER\n",
      "TiffTag 266: 0 is not a valid FILLORDER\n",
      "TiffTag 266: 0 is not a valid FILLORDER\n",
      "TiffTag 266: 0 is not a valid FILLORDER\n",
      "TiffTag 266: 0 is not a valid FILLORDER\n",
      "TiffTag 266: 0 is not a valid FILLORDER\n",
      "TiffTag 266: 0 is not a valid FILLORDER\n",
      "TiffTag 266: 0 is not a valid FILLORDER\n",
      "TiffTag 266: 0 is not a valid FILLORDER\n",
      "TiffTag 266: 0 is not a valid FILLORDER\n",
      "TiffTag 266: 0 is not a valid FILLORDER\n",
      "TiffTag 266: 0 is not a valid FILLORDER\n",
      "TiffTag 266: 0 is not a valid FILLORDER\n",
      "TiffTag 266: 0 is not a valid FILLORDER\n",
      "TiffTag 266: 0 is not a valid FILLORDER\n",
      "TiffTag 266: 0 is not a valid FILLORDER\n",
      "TiffTag 266: 0 is not a valid FILLORDER\n",
      "TiffTag 266: 0 is not a valid FILLORDER\n",
      "TiffTag 266: 0 is not a valid FILLORDER\n",
      "TiffTag 266: 0 is not a valid FILLORDER\n",
      "TiffTag 266: 0 is not a valid FILLORDER\n",
      "TiffTag 266: 0 is not a valid FILLORDER\n",
      "TiffTag 266: 0 is not a valid FILLORDER\n",
      "TiffTag 266: 0 is not a valid FILLORDER\n",
      "TiffTag 266: 0 is not a valid FILLORDER\n",
      "TiffTag 266: 0 is not a valid FILLORDER\n",
      "TiffTag 266: 0 is not a valid FILLORDER\n",
      "TiffTag 266: 0 is not a valid FILLORDER\n",
      "TiffTag 266: 0 is not a valid FILLORDER\n",
      "TiffTag 266: 0 is not a valid FILLORDER\n",
      "TiffTag 266: 0 is not a valid FILLORDER\n",
      "TiffTag 266: 0 is not a valid FILLORDER\n",
      "TiffTag 266: 0 is not a valid FILLORDER\n",
      "TiffTag 266: 0 is not a valid FILLORDER\n",
      "TiffTag 266: 0 is not a valid FILLORDER\n",
      "TiffTag 266: 0 is not a valid FILLORDER\n",
      "TiffTag 266: 0 is not a valid FILLORDER\n",
      "TiffTag 266: 0 is not a valid FILLORDER\n",
      "TiffTag 266: 0 is not a valid FILLORDER\n",
      "TiffTag 266: 0 is not a valid FILLORDER\n",
      "TiffTag 266: 0 is not a valid FILLORDER\n",
      "TiffTag 266: 0 is not a valid FILLORDER\n",
      "TiffTag 266: 0 is not a valid FILLORDER\n",
      "TiffTag 266: 0 is not a valid FILLORDER\n",
      "TiffTag 266: 0 is not a valid FILLORDER\n",
      "TiffTag 266: 0 is not a valid FILLORDER\n",
      "TiffTag 266: 0 is not a valid FILLORDER\n",
      "TiffTag 266: 0 is not a valid FILLORDER\n",
      "TiffTag 266: 0 is not a valid FILLORDER\n",
      "TiffTag 266: 0 is not a valid FILLORDER\n",
      "TiffTag 266: 0 is not a valid FILLORDER\n",
      "TiffTag 266: 0 is not a valid FILLORDER\n",
      "TiffTag 266: 0 is not a valid FILLORDER\n",
      "TiffTag 266: 0 is not a valid FILLORDER\n",
      "TiffTag 266: 0 is not a valid FILLORDER\n",
      "TiffTag 266: 0 is not a valid FILLORDER\n",
      "TiffTag 266: 0 is not a valid FILLORDER\n",
      "TiffTag 266: 0 is not a valid FILLORDER\n",
      "TiffTag 266: 0 is not a valid FILLORDER\n",
      "TiffTag 266: 0 is not a valid FILLORDER\n",
      "TiffTag 266: 0 is not a valid FILLORDER\n",
      "TiffTag 266: 0 is not a valid FILLORDER\n",
      "TiffTag 266: 0 is not a valid FILLORDER\n",
      "TiffTag 266: 0 is not a valid FILLORDER\n",
      "TiffTag 266: 0 is not a valid FILLORDER\n",
      "TiffTag 266: 0 is not a valid FILLORDER\n",
      "TiffTag 266: 0 is not a valid FILLORDER\n",
      "TiffTag 266: 0 is not a valid FILLORDER\n",
      "TiffTag 266: 0 is not a valid FILLORDER\n",
      "TiffTag 266: 0 is not a valid FILLORDER\n",
      "TiffTag 266: 0 is not a valid FILLORDER\n",
      "TiffTag 266: 0 is not a valid FILLORDER\n",
      "TiffTag 266: 0 is not a valid FILLORDER\n",
      "TiffTag 266: 0 is not a valid FILLORDER\n",
      "TiffTag 266: 0 is not a valid FILLORDER\n",
      "TiffTag 266: 0 is not a valid FILLORDER\n",
      "TiffTag 266: 0 is not a valid FILLORDER\n",
      "TiffTag 266: 0 is not a valid FILLORDER\n",
      "TiffTag 266: 0 is not a valid FILLORDER\n",
      "TiffTag 266: 0 is not a valid FILLORDER\n",
      "TiffTag 266: 0 is not a valid FILLORDER\n",
      "TiffTag 266: 0 is not a valid FILLORDER\n",
      "TiffTag 266: 0 is not a valid FILLORDER\n",
      "TiffTag 266: 0 is not a valid FILLORDER\n",
      "TiffTag 266: 0 is not a valid FILLORDER\n",
      "TiffTag 266: 0 is not a valid FILLORDER\n",
      "TiffTag 266: 0 is not a valid FILLORDER\n",
      "TiffTag 266: 0 is not a valid FILLORDER\n",
      "TiffTag 266: 0 is not a valid FILLORDER\n",
      "TiffTag 266: 0 is not a valid FILLORDER\n",
      "TiffTag 266: 0 is not a valid FILLORDER\n",
      "TiffTag 266: 0 is not a valid FILLORDER\n",
      "TiffTag 266: 0 is not a valid FILLORDER\n",
      "TiffTag 266: 0 is not a valid FILLORDER\n",
      "TiffTag 266: 0 is not a valid FILLORDER\n",
      "TiffTag 266: 0 is not a valid FILLORDER\n",
      "TiffTag 266: 0 is not a valid FILLORDER\n",
      "TiffTag 266: 0 is not a valid FILLORDER\n",
      "TiffTag 266: 0 is not a valid FILLORDER\n",
      "TiffTag 266: 0 is not a valid FILLORDER\n",
      "TiffTag 266: 0 is not a valid FILLORDER\n",
      "TiffTag 266: 0 is not a valid FILLORDER\n",
      "TiffTag 266: 0 is not a valid FILLORDER\n",
      "TiffTag 266: 0 is not a valid FILLORDER\n",
      "TiffTag 266: 0 is not a valid FILLORDER\n",
      "TiffTag 266: 0 is not a valid FILLORDER\n",
      "TiffTag 266: 0 is not a valid FILLORDER\n",
      "TiffTag 266: 0 is not a valid FILLORDER\n"
     ]
    }
   ],
   "source": [
    "data = [tifffile.imread([str(t) for t in p]) for p in zip(ch1, ch4, ch6, ch7, ch11)]"
   ]
  },
  {
   "cell_type": "code",
   "execution_count": 31,
   "metadata": {},
   "outputs": [
    {
     "data": {
      "text/plain": [
       "0"
      ]
     },
     "execution_count": 31,
     "metadata": {},
     "output_type": "execute_result"
    }
   ],
   "source": [
    "[str(c) for c in ch1].index('/data/Experiment_data/weizmann/EhV/high_time_res/High/H1_T8_subset/1000_Ch1.ome.tif')"
   ]
  },
  {
   "cell_type": "code",
   "execution_count": 6,
   "metadata": {},
   "outputs": [
    {
     "data": {
      "text/plain": [
       "array([290,   0,   0,  28,   0], dtype=uint16)"
      ]
     },
     "execution_count": 6,
     "metadata": {},
     "output_type": "execute_result"
    }
   ],
   "source": [
    "mins = numpy.array([numpy.min(d.reshape(d.shape[0], -1), axis=1) for d in data])\n",
    "mins = mins.min(axis=0)\n",
    "mins"
   ]
  },
  {
   "cell_type": "code",
   "execution_count": 7,
   "metadata": {},
   "outputs": [
    {
     "data": {
      "text/plain": [
       "236591"
      ]
     },
     "execution_count": 7,
     "metadata": {},
     "output_type": "execute_result"
    }
   ],
   "source": [
    "sum(d[1].size for d in data)"
   ]
  },
  {
   "cell_type": "code",
   "execution_count": 8,
   "metadata": {},
   "outputs": [],
   "source": [
    "l = list(filter(lambda d: numpy.nonzero(d[1] > 2**12)[0].size, enumerate(data)))"
   ]
  },
  {
   "cell_type": "code",
   "execution_count": 9,
   "metadata": {},
   "outputs": [
    {
     "data": {
      "text/plain": [
       "8126"
      ]
     },
     "execution_count": 9,
     "metadata": {},
     "output_type": "execute_result"
    }
   ],
   "source": [
    "sum([numpy.nonzero(d > 4096)[0].size for d in data])"
   ]
  },
  {
   "cell_type": "code",
   "execution_count": 10,
   "metadata": {},
   "outputs": [],
   "source": [
    "indices = [l_[0] for l_ in l]"
   ]
  },
  {
   "cell_type": "code",
   "execution_count": 11,
   "metadata": {},
   "outputs": [
    {
     "data": {
      "image/png": "[encoded data removed]",
      "text/plain": [
       "<Figure size 432x288 with 1 Axes>"
      ]
     },
     "metadata": {
      "needs_background": "light"
     },
     "output_type": "display_data"
    }
   ],
   "source": [
    "_ = plt.hist(numpy.clip(data[49][1], 0, 4096))"
   ]
  },
  {
   "cell_type": "code",
   "execution_count": 12,
   "metadata": {},
   "outputs": [
    {
     "data": {
      "text/plain": [
       "<matplotlib.image.AxesImage at 0x7f28d489e3d0>"
      ]
     },
     "execution_count": 12,
     "metadata": {},
     "output_type": "execute_result"
    },
    {
     "data": {
      "image/png": "[encoded data removed]",
      "text/plain": [
       "<Figure size 432x288 with 1 Axes>"
      ]
     },
     "metadata": {
      "needs_background": "light"
     },
     "output_type": "display_data"
    }
   ],
   "source": [
    "plt.imshow(data[49][0])"
   ]
  },
  {
   "cell_type": "code",
   "execution_count": 13,
   "metadata": {},
   "outputs": [
    {
     "data": {
      "text/plain": [
       "<matplotlib.image.AxesImage at 0x7f28d4814d30>"
      ]
     },
     "execution_count": 13,
     "metadata": {},
     "output_type": "execute_result"
    },
    {
     "data": {
      "image/png": "[encoded data removed]",
      "text/plain": [
       "<Figure size 432x288 with 1 Axes>"
      ]
     },
     "metadata": {
      "needs_background": "light"
     },
     "output_type": "display_data"
    }
   ],
   "source": [
    "plt.imshow(numpy.clip(data[0][1], 0, 250))"
   ]
  },
  {
   "cell_type": "code",
   "execution_count": 14,
   "metadata": {},
   "outputs": [
    {
     "data": {
      "text/plain": [
       "array([ 1166, 65535, 65535,  4082, 65535], dtype=uint16)"
      ]
     },
     "execution_count": 14,
     "metadata": {},
     "output_type": "execute_result"
    }
   ],
   "source": [
    "maxs = numpy.array([numpy.max(d.reshape(d.shape[0], -1), axis=1) for d in data])\n",
    "maxs = maxs.max(axis=0)\n",
    "maxs"
   ]
  },
  {
   "cell_type": "code",
   "execution_count": 15,
   "metadata": {},
   "outputs": [],
   "source": [
    "data_norm = [(d - mins[..., numpy.newaxis, numpy.newaxis]) / (maxs - mins)[..., numpy.newaxis, numpy.newaxis] for d in data]"
   ]
  },
  {
   "cell_type": "code",
   "execution_count": 16,
   "metadata": {},
   "outputs": [
    {
     "data": {
      "text/plain": [
       "0.7682648401826484"
      ]
     },
     "execution_count": 16,
     "metadata": {},
     "output_type": "execute_result"
    }
   ],
   "source": [
    "data_norm[1][0].max()"
   ]
  },
  {
   "cell_type": "code",
   "execution_count": 17,
   "metadata": {},
   "outputs": [
    {
     "data": {
      "text/plain": [
       "0.4794520547945205"
      ]
     },
     "execution_count": 17,
     "metadata": {},
     "output_type": "execute_result"
    }
   ],
   "source": [
    "data_norm[1][0].min()"
   ]
  },
  {
   "cell_type": "code",
   "execution_count": 18,
   "metadata": {},
   "outputs": [
    {
     "data": {
      "text/plain": [
       "<matplotlib.image.AxesImage at 0x7f28d47f27f0>"
      ]
     },
     "execution_count": 18,
     "metadata": {},
     "output_type": "execute_result"
    },
    {
     "data": {
      "image/png": "[encoded data removed]",
      "text/plain": [
       "<Figure size 432x288 with 1 Axes>"
      ]
     },
     "metadata": {
      "needs_background": "light"
     },
     "output_type": "display_data"
    }
   ],
   "source": [
    "plt.imshow(data_norm[1][0])"
   ]
  },
  {
   "cell_type": "code",
   "execution_count": 19,
   "metadata": {},
   "outputs": [],
   "source": [
    "import pickle"
   ]
  },
  {
   "cell_type": "code",
   "execution_count": 20,
   "metadata": {},
   "outputs": [],
   "source": [
    "with open(\"../tmp/quantiles.dat\", \"rb\") as fh:\n",
    "    quantiles = pickle.load(fh)"
   ]
  },
  {
   "cell_type": "code",
   "execution_count": 21,
   "metadata": {},
   "outputs": [
    {
     "data": {
      "text/plain": [
       "array([[ 290., 1095.],\n",
       "       [   0., 4096.],\n",
       "       [   0., 4096.],\n",
       "       [  95., 4082.],\n",
       "       [   0., 4096.]])"
      ]
     },
     "execution_count": 21,
     "metadata": {},
     "output_type": "execute_result"
    }
   ],
   "source": [
    "quantiles[0][1]"
   ]
  },
  {
   "cell_type": "code",
   "execution_count": 35,
   "metadata": {},
   "outputs": [],
   "source": [
    "i0 = (data[0][0] - quantiles[0][1][0][0]) / (quantiles[0][1][0][1] - quantiles[0][1][0][0])"
   ]
  },
  {
   "cell_type": "code",
   "execution_count": 36,
   "metadata": {},
   "outputs": [
    {
     "data": {
      "text/plain": [
       "0.5130434782608696"
      ]
     },
     "execution_count": 36,
     "metadata": {},
     "output_type": "execute_result"
    }
   ],
   "source": [
    "i0.min(axis=None)"
   ]
  },
  {
   "cell_type": "code",
   "execution_count": null,
   "metadata": {},
   "outputs": [],
   "source": []
  }
 ],
 "metadata": {
  "kernelspec": {
   "display_name": "Python 3",
   "language": "python",
   "name": "python3"
  },
  "language_info": {
   "codemirror_mode": {
    "name": "ipython",
    "version": 3
   },
   "file_extension": ".py",
   "mimetype": "text/x-python",
   "name": "python",
   "nbconvert_exporter": "python",
   "pygments_lexer": "ipython3",
   "version": "3.8.10"
  }
 },
 "nbformat": 4,
 "nbformat_minor": 4
}
