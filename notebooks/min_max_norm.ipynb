{
 "cells": [
  {
   "cell_type": "code",
   "execution_count": 5,
   "metadata": {},
   "outputs": [],
   "source": [
    "import tifffile\n",
    "import numpy\n",
    "import matplotlib.pyplot as plt\n",
    "from pathlib import Path"
   ]
  },
  {
   "cell_type": "code",
   "execution_count": 4,
   "metadata": {},
   "outputs": [],
   "source": [
    "data_dir = \"/data/Experiment_data/VIB/Vulcan/Slava_PBMC/images_subset/\""
   ]
  },
  {
   "cell_type": "code",
   "execution_count": 9,
   "metadata": {},
   "outputs": [],
   "source": [
    "data = [tifffile.imread(str(p), key=[0, 1, 2, 3]) for p in Path(data_dir).glob(\"*.tif*\")]"
   ]
  },
  {
   "cell_type": "code",
   "execution_count": 44,
   "metadata": {},
   "outputs": [
    {
     "data": {
      "text/plain": [
       "(4, 2600)"
      ]
     },
     "execution_count": 44,
     "metadata": {},
     "output_type": "execute_result"
    }
   ],
   "source": [
    "data[0].reshape(data[0].shape[0], -1).shape"
   ]
  },
  {
   "cell_type": "code",
   "execution_count": 25,
   "metadata": {},
   "outputs": [
    {
     "data": {
      "text/plain": [
       "array([ 0.03757787, -0.06986801, -0.06328143, -0.82729447], dtype=float32)"
      ]
     },
     "execution_count": 25,
     "metadata": {},
     "output_type": "execute_result"
    }
   ],
   "source": [
    "mins = numpy.array([numpy.min(d.reshape(d.shape[0], -1), axis=1) for d in data])\n",
    "mins = mins.min(axis=0)\n",
    "mins"
   ]
  },
  {
   "cell_type": "code",
   "execution_count": 54,
   "metadata": {},
   "outputs": [
    {
     "data": {
      "text/plain": [
       "array([0.17129806, 0.53780985, 0.5499696 , 1.969135  ], dtype=float32)"
      ]
     },
     "execution_count": 54,
     "metadata": {},
     "output_type": "execute_result"
    }
   ],
   "source": [
    "maxs = numpy.array([numpy.max(d.reshape(d.shape[0], -1), axis=1) for d in data])\n",
    "maxs = maxs.max(axis=0)\n",
    "maxs"
   ]
  },
  {
   "cell_type": "code",
   "execution_count": 55,
   "metadata": {},
   "outputs": [],
   "source": [
    "data_norm = [(d - mins[..., numpy.newaxis, numpy.newaxis]) / (maxs - mins)[..., numpy.newaxis, numpy.newaxis] for d in data]"
   ]
  },
  {
   "cell_type": "code",
   "execution_count": 60,
   "metadata": {},
   "outputs": [
    {
     "data": {
      "text/plain": [
       "0.9558297"
      ]
     },
     "execution_count": 60,
     "metadata": {},
     "output_type": "execute_result"
    }
   ],
   "source": [
    "data_norm[0][0].max()"
   ]
  },
  {
   "cell_type": "code",
   "execution_count": 67,
   "metadata": {},
   "outputs": [
    {
     "data": {
      "text/plain": [
       "[-0.04673039,\n",
       " -0.033662945,\n",
       " -0.058347005,\n",
       " -0.04272941,\n",
       " -0.036501385,\n",
       " -0.034922514,\n",
       " -0.04630452,\n",
       " -0.069868006,\n",
       " -0.047626425,\n",
       " -0.041282546,\n",
       " -0.06360486]"
      ]
     },
     "execution_count": 67,
     "metadata": {},
     "output_type": "execute_result"
    }
   ],
   "source": [
    "[d[1].min() for d in data]"
   ]
  },
  {
   "cell_type": "code",
   "execution_count": 57,
   "metadata": {},
   "outputs": [
    {
     "data": {
      "text/plain": [
       "<matplotlib.image.AxesImage at 0x7f08ba460bb0>"
      ]
     },
     "execution_count": 57,
     "metadata": {},
     "output_type": "execute_result"
    },
    {
     "data": {
      "image/png": "[encoded data removed]",
      "text/plain": [
       "<Figure size 432x288 with 1 Axes>"
      ]
     },
     "metadata": {
      "needs_background": "light"
     },
     "output_type": "display_data"
    }
   ],
   "source": [
    "plt.imshow(data_norm[0][0])"
   ]
  },
  {
   "cell_type": "code",
   "execution_count": 64,
   "metadata": {},
   "outputs": [
    {
     "data": {
      "text/plain": [
       "[0.14982076,\n",
       " 0.098281026,\n",
       " 0.5207257,\n",
       " 0.14621371,\n",
       " 0.009087946,\n",
       " 0.21554562,\n",
       " 0.2608311,\n",
       " 0.16090503,\n",
       " 0.31932825,\n",
       " 0.13576713,\n",
       " 0.0]"
      ]
     },
     "execution_count": 64,
     "metadata": {},
     "output_type": "execute_result"
    }
   ],
   "source": [
    "[d[0].min() for d in data_norm]"
   ]
  },
  {
   "cell_type": "code",
   "execution_count": 65,
   "metadata": {},
   "outputs": [
    {
     "data": {
      "text/plain": [
       "[0.9558297,\n",
       " 0.92610264,\n",
       " 0.87363416,\n",
       " 0.91583365,\n",
       " 0.92195165,\n",
       " 0.89476764,\n",
       " 0.9160683,\n",
       " 1.0,\n",
       " 0.8917083,\n",
       " 0.9097691,\n",
       " 0.9225564]"
      ]
     },
     "execution_count": 65,
     "metadata": {},
     "output_type": "execute_result"
    }
   ],
   "source": [
    "[d[0].max() for d in data_norm]"
   ]
  },
  {
   "cell_type": "code",
   "execution_count": null,
   "metadata": {},
   "outputs": [],
   "source": []
  }
 ],
 "metadata": {
  "kernelspec": {
   "display_name": "Python 3",
   "language": "python",
   "name": "python3"
  },
  "language_info": {
   "codemirror_mode": {
    "name": "ipython",
    "version": 3
   },
   "file_extension": ".py",
   "mimetype": "text/x-python",
   "name": "python",
   "nbconvert_exporter": "python",
   "pygments_lexer": "ipython3",
   "version": "3.8.10"
  }
 },
 "nbformat": 4,
 "nbformat_minor": 4
}
